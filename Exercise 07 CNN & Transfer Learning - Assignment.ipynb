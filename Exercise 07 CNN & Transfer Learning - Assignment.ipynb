{
 "cells": [
  {
   "cell_type": "markdown",
   "id": "352629ed-db26-4cb3-a153-4ebbe4ca2f09",
   "metadata": {},
   "source": [
    "# Exercise 07 CNN & Transfer Learning - Assignment\n",
    "\n",
    "<span style=\"color:red\">**The submission deadline of this assignment is 15/04/2024 23:59.**</span>\n",
    "\n",
    "<span style=\"color:red\">**Do not submit the saved `.pth` file of the trained CNN, because the file size is too big.**</span>\n",
    "\n",
    "## Pedagogy\n",
    "\n",
    "This notebook contains both theoretical explanations and executable cells to execute your code.\n",
    "\n",
    "When you see the <span style=\"color:red\">**[TBC]**</span> (To Be Completed) sign, it means that you need to perform an action else besides executing the cells of code that already exist. These actions can be:\n",
    "- Complete the code with proper comments\n",
    "- Respond to a question\n",
    "- Write an analysis\n",
    "- etc.\n",
    "\n",
    "## Requirement\n",
    "\n",
    "In this assignment, you are required to build a multi-class image classifier with pre-trained Squeeze Net using transfer learning.\n",
    "\n",
    "The problem to be solved is to classify grayscale images into one of the 10 pre-defined classes:\n",
    "\n",
    "![](https://github.com/zalandoresearch/fashion-mnist/raw/master/doc/img/fashion-mnist-sprite.png)\n",
    "\n",
    "|Label|0|1|2|3|4|5|6|7|8|9|\n",
    "|-|-|-|-|-|-|-|-|-|-|-|\n",
    "|Class|T-shit/top|Trouser|Pullover|Dress|Coat|Sandal|Shirt|Sneaker|Bag|Ankle boot|\n",
    "\n",
    "<span style=\"color:red\">**[TBC]**</span> Please complete the following tasks:\n",
    "- Build the data pipeline\n",
    "- Load pre-trained model and re-build the classifier\n",
    "- Train the re-built classifier\n",
    "- Test and evaluation\n",
    "- (Optional) Fine-tuning entire CNN"
   ]
  },
  {
   "cell_type": "markdown",
   "id": "7625b810-2f04-4e3b-be95-1568b2670036",
   "metadata": {},
   "source": [
    "### Import libraries"
   ]
  },
  {
   "cell_type": "code",
   "execution_count": 1,
   "id": "1276980c-4420-4c4c-a506-172e3dfe1fe1",
   "metadata": {},
   "outputs": [],
   "source": [
    "# [TBC] complete your code here with proper comments\n",
    "# import libraries\n",
    "import os\n",
    "import datetime\n",
    "import warnings\n",
    "\n",
    "import torch\n",
    "import numpy as np\n",
    "import matplotlib.pyplot as plt\n",
    "\n",
    "from tqdm import tqdm\n",
    "from sklearn.metrics import classification_report\n",
    "\n",
    "from torch import nn\n",
    "from torchvision import datasets, models, transforms\n",
    "from torch.utils.data import DataLoader, random_split"
   ]
  },
  {
   "cell_type": "code",
   "execution_count": 2,
   "id": "8b8b4d0e-a0c1-4e8c-9c32-40f90472eca4",
   "metadata": {},
   "outputs": [],
   "source": [
    "# suppress all warnings\n",
    "warnings.filterwarnings(\"ignore\")"
   ]
  },
  {
   "cell_type": "markdown",
   "id": "107590dd-f069-4880-8c42-733a17742dba",
   "metadata": {},
   "source": [
    "## Task 1. Build the data pipeline\n",
    "\n",
    "You are required to use the PyTorch built-in Fashion MNIST dataset, consists of 70,000 $28\\times28$ grayscale images in 10 classes, with 7,000 images per class. You can find more information about this dataset from the [PyTorch documentation](https://pytorch.org/vision/stable/generated/torchvision.datasets.FashionMNIST.html) and the [original source](https://github.com/zalandoresearch/fashion-mnist).\n",
    "\n",
    "To use the Fashion MNIST dataset and the pre-trained Squeeze Net, apart from the pre-processing transformations illustrated in the Instruction notebook, you also need to convert the grayscale image to the RGB image. To do this, you can add an additional transformation `transforms.Grayscale(num_output_channels=3)` to the sequence of transformations you defined.\n",
    "\n",
    "<span style=\"color:red\">**[TBC]**</span> You need to:\n",
    "- Define a sequence of transformations to pre-process the images\n",
    "- Use `torchvision.datasets.FashionMNIST()` to load the dataset\n",
    "- Divide the dataset into the training, valiation, and test set\n",
    "- Create `DataLoader` instance to wrap the dataset as iterable objects\n",
    "    - Decide a proper batch size considering\n",
    "        - The available memory of your computer\n",
    "        - The desired number of batches in each epoch"
   ]
  },
  {
   "cell_type": "code",
   "execution_count": 3,
   "id": "d0454d87-ed90-4268-9ec8-8f8a8cfe9854",
   "metadata": {},
   "outputs": [],
   "source": [
    "# [TBC] complete your code here with proper comments\n",
    "\n",
    "# define transformations required by the pre-trained SqueezeNet model\n",
    "transform = transforms.Compose([\n",
    "    transforms.Grayscale(num_output_channels=3),  # Resize images to fit SqueezeNet input\n",
    "    transforms.ToTensor(), # convert images to tensors\n",
    "    transforms.Normalize(mean=(0.5,), std=(0.5,)),  # Normalization parameters for pre-trained models\n",
    "])\n",
    "\n",
    "# load MNIST dataset\n",
    "train_val_ds = datasets.FashionMNIST(\n",
    "    root = 'data',\n",
    "    train = True,\n",
    "    download = True,\n",
    "    transform = transform\n",
    ")\n",
    "test_ds = datasets.FashionMNIST(\n",
    "    root = 'data',\n",
    "    train = False,\n",
    "    download = True,\n",
    "    transform = transform\n",
    ")\n",
    "train_ds, val_ds = random_split(\n",
    "    train_val_ds,\n",
    "    [0.8, 0.2]\n",
    ")"
   ]
  },
  {
   "cell_type": "code",
   "execution_count": 4,
   "id": "c7f9c555-8775-4642-b5f8-1fc2cd7b8f61",
   "metadata": {},
   "outputs": [],
   "source": [
    "# create the train and test data loaders\n",
    "batch_size = 512 # usually set to 2 to the nth power\n",
    "train_dl = DataLoader(train_ds, batch_size = batch_size, shuffle = True)\n",
    "val_dl = DataLoader(val_ds, batch_size = batch_size, shuffle = False)\n",
    "test_dl = DataLoader(test_ds, batch_size = batch_size, shuffle = False)"
   ]
  },
  {
   "cell_type": "code",
   "execution_count": 5,
   "id": "c66d990f-1a32-4944-a03f-958b90312fac",
   "metadata": {},
   "outputs": [
    {
     "name": "stdout",
     "output_type": "stream",
     "text": [
      "Feature shape: torch.Size([512, 3, 28, 28])\n",
      "Label shape: torch.Size([512])\n"
     ]
    }
   ],
   "source": [
    "# display the dimensionality of a batch\n",
    "for (X, y) in val_dl:\n",
    "    print('Feature shape:', X.shape)\n",
    "    print('Label shape:', y.shape)\n",
    "    break"
   ]
  },
  {
   "cell_type": "markdown",
   "id": "c67a04f4-00db-465e-9630-9079c05a7a4f",
   "metadata": {},
   "source": [
    "## Task 2. Load Pre-trained model and Re-build the classifier \n",
    "\n",
    "<span style=\"color:red\">**[TBC]**</span> You need to:\n",
    "- Load the pre-trained Squeeze Net\n",
    "- Replace the `classifier` part\n",
    "- Freeze the `features` part\n",
    "- Set up GPU acceleration if it's possible"
   ]
  },
  {
   "cell_type": "code",
   "execution_count": 6,
   "id": "f963b3ef-974b-4978-bedc-c0c378b9e00e",
   "metadata": {
    "scrolled": true
   },
   "outputs": [
    {
     "name": "stdout",
     "output_type": "stream",
     "text": [
      "Model structure:\n",
      "SqueezeNet(\n",
      "  (features): Sequential(\n",
      "    (0): Conv2d(3, 64, kernel_size=(3, 3), stride=(2, 2))\n",
      "    (1): ReLU(inplace=True)\n",
      "    (2): MaxPool2d(kernel_size=3, stride=2, padding=0, dilation=1, ceil_mode=True)\n",
      "    (3): Fire(\n",
      "      (squeeze): Conv2d(64, 16, kernel_size=(1, 1), stride=(1, 1))\n",
      "      (squeeze_activation): ReLU(inplace=True)\n",
      "      (expand1x1): Conv2d(16, 64, kernel_size=(1, 1), stride=(1, 1))\n",
      "      (expand1x1_activation): ReLU(inplace=True)\n",
      "      (expand3x3): Conv2d(16, 64, kernel_size=(3, 3), stride=(1, 1), padding=(1, 1))\n",
      "      (expand3x3_activation): ReLU(inplace=True)\n",
      "    )\n",
      "    (4): Fire(\n",
      "      (squeeze): Conv2d(128, 16, kernel_size=(1, 1), stride=(1, 1))\n",
      "      (squeeze_activation): ReLU(inplace=True)\n",
      "      (expand1x1): Conv2d(16, 64, kernel_size=(1, 1), stride=(1, 1))\n",
      "      (expand1x1_activation): ReLU(inplace=True)\n",
      "      (expand3x3): Conv2d(16, 64, kernel_size=(3, 3), stride=(1, 1), padding=(1, 1))\n",
      "      (expand3x3_activation): ReLU(inplace=True)\n",
      "    )\n",
      "    (5): MaxPool2d(kernel_size=3, stride=2, padding=0, dilation=1, ceil_mode=True)\n",
      "    (6): Fire(\n",
      "      (squeeze): Conv2d(128, 32, kernel_size=(1, 1), stride=(1, 1))\n",
      "      (squeeze_activation): ReLU(inplace=True)\n",
      "      (expand1x1): Conv2d(32, 128, kernel_size=(1, 1), stride=(1, 1))\n",
      "      (expand1x1_activation): ReLU(inplace=True)\n",
      "      (expand3x3): Conv2d(32, 128, kernel_size=(3, 3), stride=(1, 1), padding=(1, 1))\n",
      "      (expand3x3_activation): ReLU(inplace=True)\n",
      "    )\n",
      "    (7): Fire(\n",
      "      (squeeze): Conv2d(256, 32, kernel_size=(1, 1), stride=(1, 1))\n",
      "      (squeeze_activation): ReLU(inplace=True)\n",
      "      (expand1x1): Conv2d(32, 128, kernel_size=(1, 1), stride=(1, 1))\n",
      "      (expand1x1_activation): ReLU(inplace=True)\n",
      "      (expand3x3): Conv2d(32, 128, kernel_size=(3, 3), stride=(1, 1), padding=(1, 1))\n",
      "      (expand3x3_activation): ReLU(inplace=True)\n",
      "    )\n",
      "    (8): MaxPool2d(kernel_size=3, stride=2, padding=0, dilation=1, ceil_mode=True)\n",
      "    (9): Fire(\n",
      "      (squeeze): Conv2d(256, 48, kernel_size=(1, 1), stride=(1, 1))\n",
      "      (squeeze_activation): ReLU(inplace=True)\n",
      "      (expand1x1): Conv2d(48, 192, kernel_size=(1, 1), stride=(1, 1))\n",
      "      (expand1x1_activation): ReLU(inplace=True)\n",
      "      (expand3x3): Conv2d(48, 192, kernel_size=(3, 3), stride=(1, 1), padding=(1, 1))\n",
      "      (expand3x3_activation): ReLU(inplace=True)\n",
      "    )\n",
      "    (10): Fire(\n",
      "      (squeeze): Conv2d(384, 48, kernel_size=(1, 1), stride=(1, 1))\n",
      "      (squeeze_activation): ReLU(inplace=True)\n",
      "      (expand1x1): Conv2d(48, 192, kernel_size=(1, 1), stride=(1, 1))\n",
      "      (expand1x1_activation): ReLU(inplace=True)\n",
      "      (expand3x3): Conv2d(48, 192, kernel_size=(3, 3), stride=(1, 1), padding=(1, 1))\n",
      "      (expand3x3_activation): ReLU(inplace=True)\n",
      "    )\n",
      "    (11): Fire(\n",
      "      (squeeze): Conv2d(384, 64, kernel_size=(1, 1), stride=(1, 1))\n",
      "      (squeeze_activation): ReLU(inplace=True)\n",
      "      (expand1x1): Conv2d(64, 256, kernel_size=(1, 1), stride=(1, 1))\n",
      "      (expand1x1_activation): ReLU(inplace=True)\n",
      "      (expand3x3): Conv2d(64, 256, kernel_size=(3, 3), stride=(1, 1), padding=(1, 1))\n",
      "      (expand3x3_activation): ReLU(inplace=True)\n",
      "    )\n",
      "    (12): Fire(\n",
      "      (squeeze): Conv2d(512, 64, kernel_size=(1, 1), stride=(1, 1))\n",
      "      (squeeze_activation): ReLU(inplace=True)\n",
      "      (expand1x1): Conv2d(64, 256, kernel_size=(1, 1), stride=(1, 1))\n",
      "      (expand1x1_activation): ReLU(inplace=True)\n",
      "      (expand3x3): Conv2d(64, 256, kernel_size=(3, 3), stride=(1, 1), padding=(1, 1))\n",
      "      (expand3x3_activation): ReLU(inplace=True)\n",
      "    )\n",
      "  )\n",
      "  (classifier): Sequential(\n",
      "    (0): Dropout(p=0.5, inplace=False)\n",
      "    (1): Conv2d(512, 1000, kernel_size=(1, 1), stride=(1, 1))\n",
      "    (2): ReLU(inplace=True)\n",
      "    (3): AdaptiveAvgPool2d(output_size=(1, 1))\n",
      "  )\n",
      ")\n",
      "\n"
     ]
    }
   ],
   "source": [
    "# [TBC] complete your code here with proper comments\n",
    "# load pre-trained SqueezeNet 1.1 model\n",
    "squeezenet = models.squeezenet1_1(pretrained = True)\n",
    "# print network structure\n",
    "print(f\"Model structure:\\n{squeezenet}\\n\")"
   ]
  },
  {
   "cell_type": "code",
   "execution_count": 7,
   "id": "ae4be472-b80f-42a8-88d9-2510d0da7a4d",
   "metadata": {},
   "outputs": [
    {
     "name": "stdout",
     "output_type": "stream",
     "text": [
      "Model structure:\n",
      "SqueezeNet(\n",
      "  (features): Sequential(\n",
      "    (0): Conv2d(3, 64, kernel_size=(3, 3), stride=(2, 2))\n",
      "    (1): ReLU(inplace=True)\n",
      "    (2): MaxPool2d(kernel_size=3, stride=2, padding=0, dilation=1, ceil_mode=True)\n",
      "    (3): Fire(\n",
      "      (squeeze): Conv2d(64, 16, kernel_size=(1, 1), stride=(1, 1))\n",
      "      (squeeze_activation): ReLU(inplace=True)\n",
      "      (expand1x1): Conv2d(16, 64, kernel_size=(1, 1), stride=(1, 1))\n",
      "      (expand1x1_activation): ReLU(inplace=True)\n",
      "      (expand3x3): Conv2d(16, 64, kernel_size=(3, 3), stride=(1, 1), padding=(1, 1))\n",
      "      (expand3x3_activation): ReLU(inplace=True)\n",
      "    )\n",
      "    (4): Fire(\n",
      "      (squeeze): Conv2d(128, 16, kernel_size=(1, 1), stride=(1, 1))\n",
      "      (squeeze_activation): ReLU(inplace=True)\n",
      "      (expand1x1): Conv2d(16, 64, kernel_size=(1, 1), stride=(1, 1))\n",
      "      (expand1x1_activation): ReLU(inplace=True)\n",
      "      (expand3x3): Conv2d(16, 64, kernel_size=(3, 3), stride=(1, 1), padding=(1, 1))\n",
      "      (expand3x3_activation): ReLU(inplace=True)\n",
      "    )\n",
      "    (5): MaxPool2d(kernel_size=3, stride=2, padding=0, dilation=1, ceil_mode=True)\n",
      "    (6): Fire(\n",
      "      (squeeze): Conv2d(128, 32, kernel_size=(1, 1), stride=(1, 1))\n",
      "      (squeeze_activation): ReLU(inplace=True)\n",
      "      (expand1x1): Conv2d(32, 128, kernel_size=(1, 1), stride=(1, 1))\n",
      "      (expand1x1_activation): ReLU(inplace=True)\n",
      "      (expand3x3): Conv2d(32, 128, kernel_size=(3, 3), stride=(1, 1), padding=(1, 1))\n",
      "      (expand3x3_activation): ReLU(inplace=True)\n",
      "    )\n",
      "    (7): Fire(\n",
      "      (squeeze): Conv2d(256, 32, kernel_size=(1, 1), stride=(1, 1))\n",
      "      (squeeze_activation): ReLU(inplace=True)\n",
      "      (expand1x1): Conv2d(32, 128, kernel_size=(1, 1), stride=(1, 1))\n",
      "      (expand1x1_activation): ReLU(inplace=True)\n",
      "      (expand3x3): Conv2d(32, 128, kernel_size=(3, 3), stride=(1, 1), padding=(1, 1))\n",
      "      (expand3x3_activation): ReLU(inplace=True)\n",
      "    )\n",
      "    (8): MaxPool2d(kernel_size=3, stride=2, padding=0, dilation=1, ceil_mode=True)\n",
      "    (9): Fire(\n",
      "      (squeeze): Conv2d(256, 48, kernel_size=(1, 1), stride=(1, 1))\n",
      "      (squeeze_activation): ReLU(inplace=True)\n",
      "      (expand1x1): Conv2d(48, 192, kernel_size=(1, 1), stride=(1, 1))\n",
      "      (expand1x1_activation): ReLU(inplace=True)\n",
      "      (expand3x3): Conv2d(48, 192, kernel_size=(3, 3), stride=(1, 1), padding=(1, 1))\n",
      "      (expand3x3_activation): ReLU(inplace=True)\n",
      "    )\n",
      "    (10): Fire(\n",
      "      (squeeze): Conv2d(384, 48, kernel_size=(1, 1), stride=(1, 1))\n",
      "      (squeeze_activation): ReLU(inplace=True)\n",
      "      (expand1x1): Conv2d(48, 192, kernel_size=(1, 1), stride=(1, 1))\n",
      "      (expand1x1_activation): ReLU(inplace=True)\n",
      "      (expand3x3): Conv2d(48, 192, kernel_size=(3, 3), stride=(1, 1), padding=(1, 1))\n",
      "      (expand3x3_activation): ReLU(inplace=True)\n",
      "    )\n",
      "    (11): Fire(\n",
      "      (squeeze): Conv2d(384, 64, kernel_size=(1, 1), stride=(1, 1))\n",
      "      (squeeze_activation): ReLU(inplace=True)\n",
      "      (expand1x1): Conv2d(64, 256, kernel_size=(1, 1), stride=(1, 1))\n",
      "      (expand1x1_activation): ReLU(inplace=True)\n",
      "      (expand3x3): Conv2d(64, 256, kernel_size=(3, 3), stride=(1, 1), padding=(1, 1))\n",
      "      (expand3x3_activation): ReLU(inplace=True)\n",
      "    )\n",
      "    (12): Fire(\n",
      "      (squeeze): Conv2d(512, 64, kernel_size=(1, 1), stride=(1, 1))\n",
      "      (squeeze_activation): ReLU(inplace=True)\n",
      "      (expand1x1): Conv2d(64, 256, kernel_size=(1, 1), stride=(1, 1))\n",
      "      (expand1x1_activation): ReLU(inplace=True)\n",
      "      (expand3x3): Conv2d(64, 256, kernel_size=(3, 3), stride=(1, 1), padding=(1, 1))\n",
      "      (expand3x3_activation): ReLU(inplace=True)\n",
      "    )\n",
      "  )\n",
      "  (classifier): Sequential(\n",
      "    (0): Flatten(start_dim=1, end_dim=-1)\n",
      "    (1): LazyLinear(in_features=0, out_features=1000, bias=True)\n",
      "    (2): LazyBatchNorm1d(0, eps=1e-05, momentum=0.1, affine=True, track_running_stats=True)\n",
      "    (3): ReLU()\n",
      "    (4): Dropout(p=0.5, inplace=False)\n",
      "    (5): LazyLinear(in_features=0, out_features=100, bias=True)\n",
      "    (6): LazyBatchNorm1d(0, eps=1e-05, momentum=0.1, affine=True, track_running_stats=True)\n",
      "    (7): ReLU()\n",
      "    (8): Dropout(p=0.5, inplace=False)\n",
      "    (9): LazyLinear(in_features=0, out_features=10, bias=True)\n",
      "  )\n",
      ")\n",
      "\n"
     ]
    }
   ],
   "source": [
    "# replace the classifier part\n",
    "squeezenet.classifier = nn.Sequential(\n",
    "    nn.Flatten(),\n",
    "    nn.LazyLinear(1000), nn.LazyBatchNorm1d(), nn.ReLU(), nn.Dropout(p = 0.5),\n",
    "    nn.LazyLinear(100), nn.LazyBatchNorm1d(), nn.ReLU(), nn.Dropout(p = 0.5),\n",
    "    nn.LazyLinear(10)\n",
    ")\n",
    "# print network structure\n",
    "print(f\"Model structure:\\n{squeezenet}\\n\")"
   ]
  },
  {
   "cell_type": "code",
   "execution_count": 8,
   "id": "bbd70123-966a-48ab-9b5e-55f31d852bb8",
   "metadata": {},
   "outputs": [],
   "source": [
    "# freeze the learning parameters of the feature extractor part\n",
    "for parameter in squeezenet.features.parameters():\n",
    "    parameter.requires_grad = False"
   ]
  },
  {
   "cell_type": "code",
   "execution_count": 9,
   "id": "bccee11c-f3f0-472f-b8a1-228ad1abb37a",
   "metadata": {},
   "outputs": [
    {
     "name": "stdout",
     "output_type": "stream",
     "text": [
      "Using cpu device\n"
     ]
    }
   ],
   "source": [
    "# set GPU acceleration\n",
    "# get cpu, gpu or mps device for training.\n",
    "device = (\n",
    "    \"cuda\"\n",
    "    if torch.cuda.is_available()\n",
    "    else \"mps\"\n",
    "    if torch.backends.mps.is_available()\n",
    "    else \"cpu\"\n",
    ")\n",
    "print(f\"Using {device} device\")\n",
    "squeezenet = squeezenet.to(device)"
   ]
  },
  {
   "cell_type": "markdown",
   "id": "7511e9db-363b-4294-8e77-08923752652b",
   "metadata": {},
   "source": [
    "## Task 3. Train the re-built classifier\n",
    "\n",
    "<span style=\"color:red\">**[TBC]**</span> You need to:\n",
    "\n",
    "- Define a `train()` function\n",
    "    - Embed automatic model saving in the training process\n",
    "    - <span style=\"color:red\">**Do not submit the saved file as it will be too big.**</span>\n",
    "- Specify the training hyper-parameters\n",
    "- Train the network\n",
    "- Reload the best model after training\n",
    "- Plot the loss history of the training probess"
   ]
  },
  {
   "cell_type": "code",
   "execution_count": 10,
   "id": "bb326330-4a75-499f-9add-e4087aa86ca5",
   "metadata": {},
   "outputs": [],
   "source": [
    "# [TBC] complete your code here with proper comments\n",
    "# define the training function\n",
    "def train(train_dl, val_dl, model, loss_fn, optimizer, epochs, early_stopping_patience, lr_scheduler):\n",
    "    # initialization\n",
    "    min_val_loss, patience_counter = np.inf, 0\n",
    "    saved_path, start_time = '', datetime.datetime.now()\n",
    "    histories = {'train_batch': [], 'train_epoch': [], 'val_batch': [], 'val_epoch': []}\n",
    "\n",
    "    for epoch in range(epochs):\n",
    "        # train\n",
    "        model.train()\n",
    "        train_epoch_loss = 0.0\n",
    "        for X, y in tqdm(train_dl, desc = f'Training batch\\t'): # tqdm progress bar\n",
    "            X, y = X.to(device), y.to(device)\n",
    "            optimizer.zero_grad()\n",
    "            train_batch_loss = loss_fn(model(X), y)\n",
    "            train_batch_loss.backward()\n",
    "            optimizer.step()\n",
    "            train_epoch_loss += train_batch_loss.item()\n",
    "            histories['train_batch'].append(train_batch_loss.item())\n",
    "        train_epoch_loss /= len(train_dl)\n",
    "        histories['train_epoch'].append(train_epoch_loss)\n",
    "\n",
    "        # validation\n",
    "        model.eval()\n",
    "        val_epoch_loss = 0.0\n",
    "        with torch.no_grad():\n",
    "            for X, y in tqdm(val_dl, desc = f'Validation batch'): # tqdm progress bar\n",
    "                X, y = X.to(device), y.to(device)\n",
    "                val_batch_loss = loss_fn(model(X), y)\n",
    "                val_epoch_loss += val_batch_loss.item()\n",
    "                histories['val_batch'].append(val_batch_loss.item())\n",
    "            val_epoch_loss /= len(val_dl)\n",
    "            histories['val_epoch'].append(val_epoch_loss)\n",
    "\n",
    "        # print log\n",
    "        end_time = datetime.datetime.now()\n",
    "        time_consumed = str(end_time - start_time).split('.')[0]\n",
    "        print(f\"Epoch {epoch + 1}: train loss = {train_epoch_loss:>5f}, val loss = {val_epoch_loss:>5f}, time consumed = {time_consumed}\")\n",
    "\n",
    "        # learning rate decay\n",
    "        current_lr = optimizer.param_groups[0]['lr']\n",
    "        lr_scheduler.step(val_epoch_loss)\n",
    "        if current_lr != optimizer.param_groups[0]['lr']:\n",
    "            print(f'Learning rate reduced after epoch {epoch+1}')\n",
    "\n",
    "        # early stopping\n",
    "        if val_epoch_loss < min_val_loss:\n",
    "            min_val_loss, patience_counter = val_epoch_loss, 0\n",
    "            if os.path.exists(saved_path):\n",
    "                os.remove(saved_path)\n",
    "            time_str = end_time.strftime(\"%Y-%m-%d_%H-%M-%S\")\n",
    "            saved_path = f'epoch_{epoch+1}_val_loss_{val_epoch_loss:>4f}_{time_str}.pth'\n",
    "            torch.save(model.state_dict(), saved_path)\n",
    "            print(f'Model saved after epoch {epoch+1}')\n",
    "        else:\n",
    "            patience_counter += 1\n",
    "            if patience_counter >= early_stopping_patience:\n",
    "                print('Early stopping!')\n",
    "                break\n",
    "                \n",
    "    return histories, saved_path"
   ]
  },
  {
   "cell_type": "code",
   "execution_count": 11,
   "id": "882fff21-74c6-4c66-96e6-f64c0c72db76",
   "metadata": {},
   "outputs": [],
   "source": [
    "# define the training hyper-parameters\n",
    "loss_fn = nn.CrossEntropyLoss()\n",
    "learning_rate = 1e-1\n",
    "weight_decay = 1e-5\n",
    "optimizer = torch.optim.Adam(\n",
    "    squeezenet.classifier.parameters(), # only optimize the classifier part\n",
    "    lr = learning_rate,\n",
    "    weight_decay = weight_decay\n",
    ")\n",
    "epochs = 15 #because of compuationnal power\n",
    "early_stopping_patience = 5\n",
    "lr_scheduler = torch.optim.lr_scheduler.ReduceLROnPlateau(\n",
    "    optimizer,\n",
    "    mode = 'min',\n",
    "    factor = 0.1,\n",
    "    patience = 2\n",
    ")"
   ]
  },
  {
   "cell_type": "code",
   "execution_count": 12,
   "id": "c2e97064-dc0c-4c2f-bd3b-9e125c6bd3c7",
   "metadata": {},
   "outputs": [
    {
     "name": "stderr",
     "output_type": "stream",
     "text": [
      "Training batch\t: 100%|██████████| 94/94 [01:16<00:00,  1.23it/s]\n",
      "Validation batch: 100%|██████████| 24/24 [00:20<00:00,  1.20it/s]\n"
     ]
    },
    {
     "name": "stdout",
     "output_type": "stream",
     "text": [
      "Epoch 1: train loss = 1.035556, val loss = 0.783829, time consumed = 0:01:36\n",
      "Model saved after epoch 1\n"
     ]
    },
    {
     "name": "stderr",
     "output_type": "stream",
     "text": [
      "Training batch\t: 100%|██████████| 94/94 [01:27<00:00,  1.08it/s]\n",
      "Validation batch: 100%|██████████| 24/24 [00:19<00:00,  1.26it/s]\n"
     ]
    },
    {
     "name": "stdout",
     "output_type": "stream",
     "text": [
      "Epoch 2: train loss = 0.873465, val loss = 0.718869, time consumed = 0:03:22\n",
      "Model saved after epoch 2\n"
     ]
    },
    {
     "name": "stderr",
     "output_type": "stream",
     "text": [
      "Training batch\t: 100%|██████████| 94/94 [01:27<00:00,  1.08it/s]\n",
      "Validation batch: 100%|██████████| 24/24 [00:19<00:00,  1.21it/s]\n"
     ]
    },
    {
     "name": "stdout",
     "output_type": "stream",
     "text": [
      "Epoch 3: train loss = 0.846899, val loss = 0.723408, time consumed = 0:05:09\n"
     ]
    },
    {
     "name": "stderr",
     "output_type": "stream",
     "text": [
      "Training batch\t: 100%|██████████| 94/94 [01:25<00:00,  1.10it/s]\n",
      "Validation batch: 100%|██████████| 24/24 [00:20<00:00,  1.19it/s]\n"
     ]
    },
    {
     "name": "stdout",
     "output_type": "stream",
     "text": [
      "Epoch 4: train loss = 0.840175, val loss = 0.734246, time consumed = 0:06:55\n"
     ]
    },
    {
     "name": "stderr",
     "output_type": "stream",
     "text": [
      "Training batch\t: 100%|██████████| 94/94 [01:23<00:00,  1.13it/s]\n",
      "Validation batch: 100%|██████████| 24/24 [00:19<00:00,  1.21it/s]\n"
     ]
    },
    {
     "name": "stdout",
     "output_type": "stream",
     "text": [
      "Epoch 5: train loss = 0.849990, val loss = 0.754631, time consumed = 0:08:38\n",
      "Learning rate reduced after epoch 5\n"
     ]
    },
    {
     "name": "stderr",
     "output_type": "stream",
     "text": [
      "Training batch\t: 100%|██████████| 94/94 [01:25<00:00,  1.10it/s]\n",
      "Validation batch: 100%|██████████| 24/24 [00:20<00:00,  1.17it/s]\n"
     ]
    },
    {
     "name": "stdout",
     "output_type": "stream",
     "text": [
      "Epoch 6: train loss = 0.768477, val loss = 0.648787, time consumed = 0:10:23\n",
      "Model saved after epoch 6\n"
     ]
    },
    {
     "name": "stderr",
     "output_type": "stream",
     "text": [
      "Training batch\t: 100%|██████████| 94/94 [01:26<00:00,  1.09it/s]\n",
      "Validation batch: 100%|██████████| 24/24 [00:18<00:00,  1.32it/s]\n"
     ]
    },
    {
     "name": "stdout",
     "output_type": "stream",
     "text": [
      "Epoch 7: train loss = 0.717323, val loss = 0.632031, time consumed = 0:12:08\n",
      "Model saved after epoch 7\n"
     ]
    },
    {
     "name": "stderr",
     "output_type": "stream",
     "text": [
      "Training batch\t: 100%|██████████| 94/94 [01:19<00:00,  1.19it/s]\n",
      "Validation batch: 100%|██████████| 24/24 [00:19<00:00,  1.26it/s]\n"
     ]
    },
    {
     "name": "stdout",
     "output_type": "stream",
     "text": [
      "Epoch 8: train loss = 0.698293, val loss = 0.624511, time consumed = 0:13:46\n",
      "Model saved after epoch 8\n"
     ]
    },
    {
     "name": "stderr",
     "output_type": "stream",
     "text": [
      "Training batch\t: 100%|██████████| 94/94 [01:28<00:00,  1.06it/s]\n",
      "Validation batch: 100%|██████████| 24/24 [00:18<00:00,  1.28it/s]\n"
     ]
    },
    {
     "name": "stdout",
     "output_type": "stream",
     "text": [
      "Epoch 9: train loss = 0.683418, val loss = 0.625291, time consumed = 0:15:33\n"
     ]
    },
    {
     "name": "stderr",
     "output_type": "stream",
     "text": [
      "Training batch\t: 100%|██████████| 94/94 [01:23<00:00,  1.12it/s]\n",
      "Validation batch: 100%|██████████| 24/24 [00:19<00:00,  1.26it/s]\n"
     ]
    },
    {
     "name": "stdout",
     "output_type": "stream",
     "text": [
      "Epoch 10: train loss = 0.679114, val loss = 0.608918, time consumed = 0:17:16\n",
      "Model saved after epoch 10\n"
     ]
    },
    {
     "name": "stderr",
     "output_type": "stream",
     "text": [
      "Training batch\t: 100%|██████████| 94/94 [01:24<00:00,  1.11it/s]\n",
      "Validation batch: 100%|██████████| 24/24 [00:21<00:00,  1.12it/s]\n"
     ]
    },
    {
     "name": "stdout",
     "output_type": "stream",
     "text": [
      "Epoch 11: train loss = 0.665445, val loss = 0.607518, time consumed = 0:19:02\n",
      "Model saved after epoch 11\n"
     ]
    },
    {
     "name": "stderr",
     "output_type": "stream",
     "text": [
      "Training batch\t: 100%|██████████| 94/94 [01:28<00:00,  1.06it/s]\n",
      "Validation batch: 100%|██████████| 24/24 [00:19<00:00,  1.21it/s]\n"
     ]
    },
    {
     "name": "stdout",
     "output_type": "stream",
     "text": [
      "Epoch 12: train loss = 0.662267, val loss = 0.604909, time consumed = 0:20:51\n",
      "Model saved after epoch 12\n"
     ]
    },
    {
     "name": "stderr",
     "output_type": "stream",
     "text": [
      "Training batch\t: 100%|██████████| 94/94 [01:25<00:00,  1.10it/s]\n",
      "Validation batch: 100%|██████████| 24/24 [00:19<00:00,  1.20it/s]\n"
     ]
    },
    {
     "name": "stdout",
     "output_type": "stream",
     "text": [
      "Epoch 13: train loss = 0.658982, val loss = 0.599689, time consumed = 0:22:36\n",
      "Model saved after epoch 13\n"
     ]
    },
    {
     "name": "stderr",
     "output_type": "stream",
     "text": [
      "Training batch\t: 100%|██████████| 94/94 [01:26<00:00,  1.09it/s]\n",
      "Validation batch: 100%|██████████| 24/24 [00:20<00:00,  1.18it/s]\n"
     ]
    },
    {
     "name": "stdout",
     "output_type": "stream",
     "text": [
      "Epoch 14: train loss = 0.652936, val loss = 0.597688, time consumed = 0:24:23\n",
      "Model saved after epoch 14\n"
     ]
    },
    {
     "name": "stderr",
     "output_type": "stream",
     "text": [
      "Training batch\t: 100%|██████████| 94/94 [01:27<00:00,  1.08it/s]\n",
      "Validation batch: 100%|██████████| 24/24 [00:17<00:00,  1.33it/s]"
     ]
    },
    {
     "name": "stdout",
     "output_type": "stream",
     "text": [
      "Epoch 15: train loss = 0.645361, val loss = 0.597003, time consumed = 0:26:08\n",
      "Model saved after epoch 15\n"
     ]
    },
    {
     "name": "stderr",
     "output_type": "stream",
     "text": [
      "\n"
     ]
    },
    {
     "data": {
      "text/plain": [
       "<All keys matched successfully>"
      ]
     },
     "execution_count": 12,
     "metadata": {},
     "output_type": "execute_result"
    }
   ],
   "source": [
    "# train the neural network\n",
    "histories, saved_path = train(\n",
    "    train_dl,\n",
    "    val_dl,\n",
    "    squeezenet,\n",
    "    loss_fn,\n",
    "    optimizer,\n",
    "    epochs,\n",
    "    early_stopping_patience,\n",
    "    lr_scheduler\n",
    ")\n",
    "# reload the best model\n",
    "squeezenet.load_state_dict(torch.load(saved_path))"
   ]
  },
  {
   "cell_type": "code",
   "execution_count": 13,
   "id": "35437887-4e9c-4a83-9109-518c49572a92",
   "metadata": {},
   "outputs": [
    {
     "data": {
      "image/png": "[encoded data removed]",
      "text/plain": [
       "<Figure size 640x480 with 1 Axes>"
      ]
     },
     "metadata": {},
     "output_type": "display_data"
    }
   ],
   "source": [
    "# plot the train vs. val loss history\n",
    "plt.figure()\n",
    "plt.plot(np.arange(len(histories['train_epoch'])), histories['train_epoch'], '-', label = 'train loss')\n",
    "plt.plot(np.arange(len(histories['val_epoch'])), histories['val_epoch'], '-', label = 'val loss')\n",
    "plt.title('train vs. validation loss history')\n",
    "plt.xlabel('epoch')\n",
    "plt.ylabel('loss')\n",
    "plt.legend()\n",
    "plt.show()"
   ]
  },
  {
   "cell_type": "markdown",
   "id": "ec588df3-9dd5-44db-9ea3-8609cddcd234",
   "metadata": {},
   "source": [
    "## Step 4. Test and evaluation\n",
    "\n",
    "<span style=\"color:red\">**[TBC]**</span> You need to:\n",
    "- Define the `test()` function\n",
    "    - Output logits, probabilities and predictions\n",
    "    - Output the loss value on the test set\n",
    "- Make predictions on the test dataset\n",
    "- Evaluate the performance\n",
    "    - Use `sklearn.metrics.classification_report()`"
   ]
  },
  {
   "cell_type": "code",
   "execution_count": 14,
   "id": "404c14b8-647e-4992-9eb8-070cd38933b0",
   "metadata": {},
   "outputs": [],
   "source": [
    "# [TBC] complete your code here with proper comments\n",
    "# define a function to make predictions on test dataset and evaluate the performance\n",
    "def test(dataloader, model, loss_fn):\n",
    "    logits, probs, preds = [], [], []\n",
    "    with torch.no_grad():\n",
    "        loss = 0.0\n",
    "        for (X, y) in tqdm(dataloader, desc = f'Test batch'):\n",
    "            X, y = X.to(device), y.to(device)\n",
    "            batch_logits = model(X)\n",
    "            batch_loss = loss_fn(batch_logits, y)\n",
    "            loss += batch_loss.item()\n",
    "\n",
    "            batch_probs = torch.softmax(batch_logits, dim = -1)\n",
    "            _, batch_preds = torch.max(batch_logits, 1)\n",
    "\n",
    "            logits.append(batch_logits.cpu().numpy())\n",
    "            probs.append(batch_probs.cpu().numpy())\n",
    "            preds.append(batch_preds.cpu().numpy())\n",
    "        loss /= len(dataloader)\n",
    "        print(f\"test loss = {loss}\")\n",
    "    return np.concatenate(logits), np.concatenate(probs), np.concatenate(preds), loss"
   ]
  },
  {
   "cell_type": "code",
   "execution_count": 18,
   "id": "31f336c8-9376-4c8c-9d53-b6092f036d33",
   "metadata": {},
   "outputs": [
    {
     "name": "stderr",
     "output_type": "stream",
     "text": [
      "Test batch: 100%|██████████| 20/20 [00:13<00:00,  1.52it/s]\n"
     ]
    },
    {
     "name": "stdout",
     "output_type": "stream",
     "text": [
      "test loss = 0.5986072242259979\n",
      "              precision    recall  f1-score   support\n",
      "\n",
      "           0       0.73      0.71      0.72      1000\n",
      "           1       0.95      0.93      0.94      1000\n",
      "           2       0.65      0.70      0.68      1000\n",
      "           3       0.72      0.76      0.74      1000\n",
      "           4       0.62      0.63      0.62      1000\n",
      "           5       0.88      0.88      0.88      1000\n",
      "           6       0.53      0.50      0.51      1000\n",
      "           7       0.87      0.87      0.87      1000\n",
      "           8       0.91      0.88      0.89      1000\n",
      "           9       0.91      0.92      0.92      1000\n",
      "\n",
      "    accuracy                           0.78     10000\n",
      "   macro avg       0.78      0.78      0.78     10000\n",
      "weighted avg       0.78      0.78      0.78     10000\n",
      "\n"
     ]
    }
   ],
   "source": [
    "# make prediction on test set and evaluate the performance\n",
    "test_logits, test_prob, test_pred, test_loss = test(test_dl, squeezenet, loss_fn)\n",
    "\n",
    "# obtain test labels\n",
    "test_label = []\n",
    "for (_, y) in test_dl:\n",
    "    test_label.extend(y.cpu().numpy())\n",
    "\n",
    "# calculate classification report\n",
    "print(classification_report(test_label, test_pred))"
   ]
  },
  {
   "cell_type": "markdown",
   "id": "90aed7ba-fc9e-421b-b5a9-1fece5677f99",
   "metadata": {},
   "source": [
    "## Optional Task. Fine-tuning entire CNN\n",
    "\n",
    "This task is not mandatory. You need to:\n",
    "- Unfreeze the `feature extractor`\n",
    "- Fine-tune the entire netowrk (both the `feature extractor` and the `classifier`) with a relative small learning rate\n",
    "- Reload the best model after fine-tuning\n",
    "- Test and evaluation"
   ]
  },
  {
   "cell_type": "code",
   "execution_count": 19,
   "id": "2c80ba03-203c-4d4e-9519-9b5366fb6902",
   "metadata": {},
   "outputs": [],
   "source": [
    "# [TBC] complete your code here with proper comments\n",
    "# unfreeze the learning parameters of the feature extractor part\n",
    "for parameter in squeezenet.features.parameters():\n",
    "    parameter.requires_grad = True"
   ]
  },
  {
   "cell_type": "code",
   "execution_count": 22,
   "id": "703de587-d378-447d-8de4-4f70e9ed8462",
   "metadata": {},
   "outputs": [],
   "source": [
    "# define the training hyper-parameters\n",
    "loss_fn = nn.CrossEntropyLoss()\n",
    "learning_rate = 1e-5 # a relative small learning rate\n",
    "weight_decay = 1e-5\n",
    "optimizer = torch.optim.Adam(\n",
    "    squeezenet.parameters(), # optimize the entire network, not only the classifier part\n",
    "    lr = learning_rate,\n",
    "    weight_decay = weight_decay\n",
    ")\n",
    "epochs = 5\n",
    "early_stopping_patience = 5\n",
    "lr_scheduler = torch.optim.lr_scheduler.ReduceLROnPlateau(\n",
    "    optimizer,\n",
    "    mode = 'min',\n",
    "    factor = 0.1,\n",
    "    patience = 2\n",
    ")"
   ]
  },
  {
   "cell_type": "code",
   "execution_count": 23,
   "id": "18509836-9808-4619-ab39-21e5f2617435",
   "metadata": {},
   "outputs": [
    {
     "name": "stderr",
     "output_type": "stream",
     "text": [
      "Training batch\t: 100%|██████████| 94/94 [05:16<00:00,  3.36s/it]\n",
      "Validation batch: 100%|██████████| 24/24 [00:17<00:00,  1.34it/s]\n"
     ]
    },
    {
     "name": "stdout",
     "output_type": "stream",
     "text": [
      "Epoch 1: train loss = 0.607266, val loss = 0.556209, time consumed = 0:05:34\n",
      "Model saved after epoch 1\n"
     ]
    },
    {
     "name": "stderr",
     "output_type": "stream",
     "text": [
      "Training batch\t: 100%|██████████| 94/94 [06:02<00:00,  3.86s/it]\n",
      "Validation batch: 100%|██████████| 24/24 [00:15<00:00,  1.57it/s]\n"
     ]
    },
    {
     "name": "stdout",
     "output_type": "stream",
     "text": [
      "Epoch 2: train loss = 0.580817, val loss = 0.535817, time consumed = 0:11:52\n",
      "Model saved after epoch 2\n"
     ]
    },
    {
     "name": "stderr",
     "output_type": "stream",
     "text": [
      "Training batch\t: 100%|██████████| 94/94 [05:58<00:00,  3.82s/it]\n",
      "Validation batch: 100%|██████████| 24/24 [00:26<00:00,  1.10s/it]\n"
     ]
    },
    {
     "name": "stdout",
     "output_type": "stream",
     "text": [
      "Epoch 3: train loss = 0.562653, val loss = 0.520613, time consumed = 0:18:17\n",
      "Model saved after epoch 3\n"
     ]
    },
    {
     "name": "stderr",
     "output_type": "stream",
     "text": [
      "Training batch\t: 100%|██████████| 94/94 [06:07<00:00,  3.91s/it]\n",
      "Validation batch: 100%|██████████| 24/24 [00:25<00:00,  1.05s/it]\n"
     ]
    },
    {
     "name": "stdout",
     "output_type": "stream",
     "text": [
      "Epoch 4: train loss = 0.550811, val loss = 0.509348, time consumed = 0:24:50\n",
      "Model saved after epoch 4\n"
     ]
    },
    {
     "name": "stderr",
     "output_type": "stream",
     "text": [
      "Training batch\t: 100%|██████████| 94/94 [03:44<00:00,  2.38s/it]\n",
      "Validation batch: 100%|██████████| 24/24 [00:05<00:00,  4.42it/s]"
     ]
    },
    {
     "name": "stdout",
     "output_type": "stream",
     "text": [
      "Epoch 5: train loss = 0.542292, val loss = 0.500322, time consumed = 0:28:40\n",
      "Model saved after epoch 5\n"
     ]
    },
    {
     "name": "stderr",
     "output_type": "stream",
     "text": [
      "\n"
     ]
    },
    {
     "data": {
      "text/plain": [
       "<All keys matched successfully>"
      ]
     },
     "execution_count": 23,
     "metadata": {},
     "output_type": "execute_result"
    }
   ],
   "source": [
    "# train the neural network\n",
    "histories, saved_path = train(\n",
    "    train_dl,\n",
    "    val_dl,\n",
    "    squeezenet,\n",
    "    loss_fn,\n",
    "    optimizer,\n",
    "    epochs,\n",
    "    early_stopping_patience,\n",
    "    lr_scheduler\n",
    ")\n",
    "# reload the best model\n",
    "squeezenet.load_state_dict(torch.load(saved_path))"
   ]
  },
  {
   "cell_type": "code",
   "execution_count": 24,
   "id": "75637ffb-1bad-4367-8c48-0e3530c5688b",
   "metadata": {},
   "outputs": [
    {
     "data": {
      "image/png": "[encoded data removed]",
      "text/plain": [
       "<Figure size 640x480 with 1 Axes>"
      ]
     },
     "metadata": {},
     "output_type": "display_data"
    }
   ],
   "source": [
    "# plot the train vs. val loss history\n",
    "plt.figure()\n",
    "plt.plot(np.arange(len(histories['train_epoch'])), histories['train_epoch'], '-', label = 'train loss')\n",
    "plt.plot(np.arange(len(histories['val_epoch'])), histories['val_epoch'], '-', label = 'val loss')\n",
    "plt.title('train vs. validation loss history')\n",
    "plt.xlabel('epoch')\n",
    "plt.ylabel('loss')\n",
    "plt.legend()\n",
    "plt.show()"
   ]
  },
  {
   "cell_type": "code",
   "execution_count": 26,
   "id": "c239945f-d160-468c-8e40-58e3c650bf87",
   "metadata": {},
   "outputs": [
    {
     "name": "stderr",
     "output_type": "stream",
     "text": [
      "Test batch: 100%|██████████| 20/20 [00:04<00:00,  4.96it/s]\n"
     ]
    },
    {
     "name": "stdout",
     "output_type": "stream",
     "text": [
      "test loss = 0.5045981377363205\n",
      "              precision    recall  f1-score   support\n",
      "\n",
      "           0       0.75      0.75      0.75      1000\n",
      "           1       0.97      0.95      0.96      1000\n",
      "           2       0.74      0.72      0.73      1000\n",
      "           3       0.75      0.83      0.78      1000\n",
      "           4       0.68      0.67      0.67      1000\n",
      "           5       0.91      0.92      0.91      1000\n",
      "           6       0.55      0.52      0.53      1000\n",
      "           7       0.89      0.91      0.90      1000\n",
      "           8       0.93      0.93      0.93      1000\n",
      "           9       0.94      0.93      0.94      1000\n",
      "\n",
      "    accuracy                           0.81     10000\n",
      "   macro avg       0.81      0.81      0.81     10000\n",
      "weighted avg       0.81      0.81      0.81     10000\n",
      "\n"
     ]
    }
   ],
   "source": [
    "# make prediction on test set and evaluate the performance\n",
    "test_logits, test_prob, test_pred, test_loss = test(test_dl, squeezenet, loss_fn)\n",
    "\n",
    "# obtain test labels\n",
    "test_label = []\n",
    "for (_, y) in test_dl:\n",
    "    test_label.extend(y.cpu().numpy())\n",
    "\n",
    "# calculate classification report\n",
    "print(classification_report(test_label, test_pred))"
   ]
  }
 ],
 "metadata": {
  "kernelspec": {
   "display_name": "Python 3 (ipykernel)",
   "language": "python",
   "name": "python3"
  },
  "language_info": {
   "codemirror_mode": {
    "name": "ipython",
    "version": 3
   },
   "file_extension": ".py",
   "mimetype": "text/x-python",
   "name": "python",
   "nbconvert_exporter": "python",
   "pygments_lexer": "ipython3",
   "version": "3.11.7"
  }
 },
 "nbformat": 4,
 "nbformat_minor": 5
}
