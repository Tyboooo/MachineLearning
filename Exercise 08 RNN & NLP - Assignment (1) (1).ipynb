{
 "cells": [
  {
   "cell_type": "markdown",
   "id": "a3fa2d25-42a7-43d4-b6b0-6b677e98ac58",
   "metadata": {},
   "source": [
    "# Exercise 07 RNN & LSTM - Assignment\n",
    "\n",
    "<span style=\"color:red\">**The submission deadline of this assignment is 23/04/2024 23:59.**</span>\n",
    "\n",
    "<span style=\"color:red\">**Do not submit the saved `.pth` file of the trained CNN, because the file size is too big.**</span>\n",
    "\n",
    "## Pedagogy\n",
    "\n",
    "This notebook contains both theoretical explanations and executable cells to execute your code.\n",
    "\n",
    "When you see the <span style=\"color:red\">**[TBC]**</span> (To Be Completed) sign, it means that you need to perform an action else besides executing the cells of code that already exist. These actions can be:\n",
    "- Complete the code with proper comments\n",
    "- Respond to a question\n",
    "- Write an analysis\n",
    "- etc.\n",
    "\n",
    "## Requirement\n",
    "\n",
    "In this assignment, you are required to build a text-classifier using LSTM.\n",
    "\n",
    "The problem to be solved is to predict the class of a product based on the product page (title and description) on the E-commerce platform:\n",
    "\n",
    "|Class|Example product page|\n",
    "|-|-|\n",
    "|Books|Inner Engineering: A Yogi's Guide to Joy About the Author Sadhguru Jaggi VasudevSADHGURU is a yogi, mystic, and visionary who established the Isha Foundation, a nonprofit dedicated to the cultivation of human potential...|\n",
    "|Clothing & Accessories|Amour Butterfly Design Sunglasses For Girls 6+ Years { SKU16 } Amour Butterfly Design Sunglasses to give full protection. Very light weight. Highly durable. Its safe for kids eyes and give full eye protection against harmful uv rays...|\n",
    "|Electronics|Bluetooth Dongle USB CSR 4.0 Adapter Receiver Transfer Wireless Adapter for PC Computer Laptop Supports Windows 10 8.1 8 7 Vista XP - Upgraded Version...|\n",
    "|Household|Paper Plane Design Framed Wall Hanging Motivational Office Decor Art Prints (8.7 X 8.7 inch) - Set of 4 Painting made up in synthetic frame with uv textured print which gives multi effects and attracts towards it. This is an special series of paintings which makes your wall very beautiful and gives a royal touch...|\n",
    "\n",
    "<span style=\"color:red\">**[TBC]**</span> Please complete the following tasks:\n",
    "- Build the data pipeline\n",
    "- Create a LSTM-based text classifier\n",
    "- Train the network, save and reload the best one\n",
    "- Test and evaluation\n",
    "- Make predictions on unseen text (defined by yourself)"
   ]
  },
  {
   "cell_type": "markdown",
   "id": "60963915-5eda-4f40-bdb7-9b08b0f89f8a",
   "metadata": {},
   "source": [
    "## Import libraries"
   ]
  },
  {
   "cell_type": "code",
   "execution_count": 19,
   "id": "049b81b1-8cf6-457e-a2f5-7a43e528d90c",
   "metadata": {},
   "outputs": [],
   "source": [
    "# [TBC] complete your code here with proper comments\n",
    "# import libraries\n",
    "import os\n",
    "import datetime\n",
    "import warnings\n",
    "\n",
    "import torch\n",
    "import numpy as np\n",
    "import pandas as pd\n",
    "import matplotlib.pyplot as plt\n",
    "\n",
    "from tqdm import tqdm\n",
    "\n",
    "from sklearn.metrics import classification_report\n",
    "\n",
    "from torch import nn\n",
    "\n",
    "from torch.utils.data import TensorDataset, DataLoader\n",
    "from torch.utils.data.dataset import random_split\n",
    "\n",
    "from torchtext.data.utils import get_tokenizer # for tokenization\n",
    "from torchtext.vocab import build_vocab_from_iterator # for creating vocabulary"
   ]
  },
  {
   "cell_type": "code",
   "execution_count": 20,
   "id": "532bdc97-36a1-43f8-a083-9d6da834242a",
   "metadata": {},
   "outputs": [],
   "source": [
    "# suppress all warnings\n",
    "warnings.filterwarnings(\"ignore\")"
   ]
  },
  {
   "cell_type": "markdown",
   "id": "eb3e537c-8db5-474f-8446-7db6e7968b63",
   "metadata": {},
   "source": [
    "## Task 1. Build the data pipeline\n",
    "\n",
    "You are required to use `ecommerce_dataset.csv` which can be downloaded from the Learn Platform.\n",
    "\n",
    "<span style=\"color:red\">**[TBC]**</span> You need to:\n",
    "- Load the dataset from the `ecommerce_dataset.csv` file\n",
    "- Tokenization\n",
    "- Create the vocabulary\n",
    "- Cut/Pad each news articles to the same sequence length\n",
    "- Create the tensor dataset and dataloader for the training, validation, and test set"
   ]
  },
  {
   "cell_type": "code",
   "execution_count": 21,
   "id": "71d10586-4c4b-4f5d-a8ec-b3e28aa67c95",
   "metadata": {},
   "outputs": [
    {
     "data": {
      "text/html": [
       "<div>\n",
       "<style scoped>\n",
       "    .dataframe tbody tr th:only-of-type {\n",
       "        vertical-align: middle;\n",
       "    }\n",
       "\n",
       "    .dataframe tbody tr th {\n",
       "        vertical-align: top;\n",
       "    }\n",
       "\n",
       "    .dataframe thead th {\n",
       "        text-align: right;\n",
       "    }\n",
       "</style>\n",
       "<table border=\"1\" class=\"dataframe\">\n",
       "  <thead>\n",
       "    <tr style=\"text-align: right;\">\n",
       "      <th></th>\n",
       "      <th>text</th>\n",
       "      <th>label</th>\n",
       "    </tr>\n",
       "  </thead>\n",
       "  <tbody>\n",
       "    <tr>\n",
       "      <th>0</th>\n",
       "      <td>Paper Plane Design Framed Wall Hanging Motivat...</td>\n",
       "      <td>3</td>\n",
       "    </tr>\n",
       "    <tr>\n",
       "      <th>1</th>\n",
       "      <td>SAF 'Floral' Framed Painting (Wood, 30 inch x ...</td>\n",
       "      <td>3</td>\n",
       "    </tr>\n",
       "    <tr>\n",
       "      <th>2</th>\n",
       "      <td>SAF 'UV Textured Modern Art Print Framed' Pain...</td>\n",
       "      <td>3</td>\n",
       "    </tr>\n",
       "    <tr>\n",
       "      <th>3</th>\n",
       "      <td>SAF Flower Print Framed Painting (Synthetic, 1...</td>\n",
       "      <td>3</td>\n",
       "    </tr>\n",
       "    <tr>\n",
       "      <th>4</th>\n",
       "      <td>Incredible Gifts India Wooden Happy Birthday U...</td>\n",
       "      <td>3</td>\n",
       "    </tr>\n",
       "    <tr>\n",
       "      <th>...</th>\n",
       "      <td>...</td>\n",
       "      <td>...</td>\n",
       "    </tr>\n",
       "    <tr>\n",
       "      <th>50419</th>\n",
       "      <td>Strontium MicroSD Class 10 8GB Memory Card (Bl...</td>\n",
       "      <td>2</td>\n",
       "    </tr>\n",
       "    <tr>\n",
       "      <th>50420</th>\n",
       "      <td>CrossBeats Wave Waterproof Bluetooth Wireless ...</td>\n",
       "      <td>2</td>\n",
       "    </tr>\n",
       "    <tr>\n",
       "      <th>50421</th>\n",
       "      <td>Karbonn Titanium Wind W4 (White) Karbonn Titan...</td>\n",
       "      <td>2</td>\n",
       "    </tr>\n",
       "    <tr>\n",
       "      <th>50422</th>\n",
       "      <td>Samsung Guru FM Plus (SM-B110E/D, Black) Colou...</td>\n",
       "      <td>2</td>\n",
       "    </tr>\n",
       "    <tr>\n",
       "      <th>50423</th>\n",
       "      <td>Micromax Canvas Win W121 (White)</td>\n",
       "      <td>2</td>\n",
       "    </tr>\n",
       "  </tbody>\n",
       "</table>\n",
       "<p>50424 rows × 2 columns</p>\n",
       "</div>"
      ],
      "text/plain": [
       "                                                    text  label\n",
       "0      Paper Plane Design Framed Wall Hanging Motivat...      3\n",
       "1      SAF 'Floral' Framed Painting (Wood, 30 inch x ...      3\n",
       "2      SAF 'UV Textured Modern Art Print Framed' Pain...      3\n",
       "3      SAF Flower Print Framed Painting (Synthetic, 1...      3\n",
       "4      Incredible Gifts India Wooden Happy Birthday U...      3\n",
       "...                                                  ...    ...\n",
       "50419  Strontium MicroSD Class 10 8GB Memory Card (Bl...      2\n",
       "50420  CrossBeats Wave Waterproof Bluetooth Wireless ...      2\n",
       "50421  Karbonn Titanium Wind W4 (White) Karbonn Titan...      2\n",
       "50422  Samsung Guru FM Plus (SM-B110E/D, Black) Colou...      2\n",
       "50423                   Micromax Canvas Win W121 (White)      2\n",
       "\n",
       "[50424 rows x 2 columns]"
      ]
     },
     "execution_count": 21,
     "metadata": {},
     "output_type": "execute_result"
    }
   ],
   "source": [
    "# [TBC] complete your code here with proper comments\n",
    "df = pd.read_csv('C:\\\\Users\\\\thiba\\\\Downloads\\\\ecommerce_dataset.csv')\n",
    "classes = ['Books', 'Clothing & Accessories', 'Electronics', 'Household']\n",
    "df"
   ]
  },
  {
   "cell_type": "code",
   "execution_count": 22,
   "id": "4b7d0334-f426-459b-8973-d1d929635fcf",
   "metadata": {},
   "outputs": [],
   "source": [
    "# get the tokenizer\n",
    "tokenizer = get_tokenizer('basic_english')\n",
    "\n",
    "# define an intertor function to perform tokenization\n",
    "def yield_tokens(df, tokenizer):\n",
    "    for i in range(len(df)):\n",
    "        yield tokenizer(df['text'].values[i])\n",
    "\n",
    "# create the vocabulary\n",
    "vocab = build_vocab_from_iterator(yield_tokens(df, tokenizer), specials = ['<unk>'])\n",
    "vocab.set_default_index(vocab['<unk>'])"
   ]
  },
  {
   "cell_type": "code",
   "execution_count": 23,
   "id": "b4ba8afb-e45d-442c-b557-15528d75d497",
   "metadata": {},
   "outputs": [
    {
     "name": "stdout",
     "output_type": "stream",
     "text": [
      "The number of unique tokens in the vocabulary: 110481\n"
     ]
    }
   ],
   "source": [
    "# print the number of unique tokens in the vocabulary\n",
    "print('The number of unique tokens in the vocabulary:', len(vocab))"
   ]
  },
  {
   "cell_type": "code",
   "execution_count": 24,
   "id": "96965243-f9dd-44fd-b08e-f50fec74e068",
   "metadata": {},
   "outputs": [
    {
     "name": "stdout",
     "output_type": "stream",
     "text": [
      "The shape of input: (50424, 20)\n",
      "The shape of label: (50424,)\n"
     ]
    }
   ],
   "source": [
    "# cut/pad all news articles to the same sequence length\n",
    "seq_length = 20 # number of tokens in the sequence for each news articles\n",
    "X = []\n",
    "for i in range(len(df)):\n",
    "    text = df['text'].values[i]\n",
    "    text = vocab(tokenizer(text))\n",
    "    if len(text) < seq_length:\n",
    "        text = text + [0] * (seq_length - len(text)) # pad the sequence with 0\n",
    "    else:\n",
    "        text = text[:seq_length] # cut the sequence to the pre-defined length\n",
    "    X.append(text)\n",
    "X = np.array(X)\n",
    "print('The shape of input:', X.shape)\n",
    "y = df['label'].values\n",
    "print('The shape of label:', y.shape)"
   ]
  },
  {
   "cell_type": "code",
   "execution_count": 25,
   "id": "bd213e20-d761-48d0-97f3-6b98d25d73c9",
   "metadata": {},
   "outputs": [],
   "source": [
    "# create the tensor dataset\n",
    "ds = TensorDataset(\n",
    "    torch.tensor(X, dtype = torch.int64),\n",
    "    torch.tensor(y, dtype = torch.int64)\n",
    ")"
   ]
  },
  {
   "cell_type": "code",
   "execution_count": 26,
   "id": "54ce7590-8155-4299-80d2-7580fadd72cc",
   "metadata": {},
   "outputs": [],
   "source": [
    "# split the dataset into the training, validation, and test set\n",
    "train_val_ds, test_ds = random_split(ds, [0.7, 0.3])\n",
    "train_ds, val_ds = random_split(ds, [0.8, 0.2])"
   ]
  },
  {
   "cell_type": "code",
   "execution_count": 28,
   "id": "40dbf7b9-750b-4ab3-93aa-72555829e321",
   "metadata": {},
   "outputs": [],
   "source": [
    "# create the training, validation, and test data loaders\n",
    "batch_size = 512 # usually set to 2 to the nth power\n",
    "train_dl = DataLoader(train_ds, batch_size = batch_size, shuffle = True)\n",
    "val_dl = DataLoader(val_ds, batch_size = batch_size, shuffle = False)\n",
    "test_dl = DataLoader(test_ds, batch_size = batch_size, shuffle = False)"
   ]
  },
  {
   "cell_type": "code",
   "execution_count": 29,
   "id": "ea990925-426a-456d-89e6-5464c4540e7f",
   "metadata": {},
   "outputs": [
    {
     "name": "stdout",
     "output_type": "stream",
     "text": [
      "torch.Size([512, 20])\n",
      "torch.Size([512])\n"
     ]
    }
   ],
   "source": [
    "# get one batch and print its shape\n",
    "for batch in train_dl:\n",
    "    print(batch[0].shape)\n",
    "    print(batch[1].shape)\n",
    "    break"
   ]
  },
  {
   "cell_type": "markdown",
   "id": "b1d8cfb7-7892-4e14-9332-082cca585e6b",
   "metadata": {},
   "source": [
    "## Task 2. Create a CNN-based image classifier\n",
    "\n",
    "<span style=\"color:red\">**[TBC]**</span> You need to:\n",
    "- Define a custom class to specify the structure and the forward method of the network\n",
    "    - You are required to use `nn.LSTM()` layer in the network\n",
    "- Specify the device used for computation\n",
    "- Create an instance of the network and move it to the corresponding device"
   ]
  },
  {
   "cell_type": "code",
   "execution_count": 30,
   "id": "08ad5dfa-45d0-4d34-8b9b-dd56b622c053",
   "metadata": {},
   "outputs": [],
   "source": [
    "# [TBC] complete your code here with proper comments\n",
    "# define a custom neural network class\n",
    "class LSTMClassifier(nn.Module):\n",
    "    def __init__(self, num_embeddings, embedding_dim, hidden_size, num_class):\n",
    "        super().__init__()\n",
    "        self.embedding = nn.Embedding(num_embeddings, embedding_dim)\n",
    "        self.lstm = nn.LSTM(embedding_dim, hidden_size, batch_first = True)\n",
    "        self.fc = nn.Linear(hidden_size, num_class)\n",
    "\n",
    "    def forward(self, x):\n",
    "        x = self.embedding(x)\n",
    "        out, (h, c) = self.lstm(x)\n",
    "        return self.fc(h[-1])"
   ]
  },
  {
   "cell_type": "code",
   "execution_count": 31,
   "id": "0ddfb572-8d75-4382-9884-1370c84cc523",
   "metadata": {},
   "outputs": [
    {
     "name": "stdout",
     "output_type": "stream",
     "text": [
      "Using cpu device\n"
     ]
    }
   ],
   "source": [
    "# get cpu, gpu or mps device for computation\n",
    "device = (\n",
    "    \"cuda\"\n",
    "    if torch.cuda.is_available()\n",
    "    else \"mps\"\n",
    "    if torch.backends.mps.is_available()\n",
    "    else \"cpu\"\n",
    ")\n",
    "print(f\"Using {device} device\")"
   ]
  },
  {
   "cell_type": "code",
   "execution_count": 32,
   "id": "eaac77f5-d56b-4ea7-8b6b-3ecd17333513",
   "metadata": {},
   "outputs": [],
   "source": [
    "# create the neural network\n",
    "num_embeddings = len(vocab) # number of unique tokens in the vocabulary\n",
    "embedding_dim = 64\n",
    "hidden_size = 32\n",
    "num_class = 4\n",
    "model = LSTMClassifier(num_embeddings, embedding_dim, hidden_size, num_class).to(device)"
   ]
  },
  {
   "cell_type": "markdown",
   "id": "fcb057a4-8a3c-4c50-802b-c1987342d458",
   "metadata": {},
   "source": [
    "## Task 3. Train the network, save and reload the best one\n",
    "\n",
    "<span style=\"color:red\">**[TBC]**</span> You need to:\n",
    "- Define a `train()` function\n",
    "    - <span style=\"color:red\">**Do not submit the saved file as it will be too big.**</span>\n",
    "- Train the network\n",
    "- Reload the best model after training\n",
    "- Plot the loss history of the training process"
   ]
  },
  {
   "cell_type": "code",
   "execution_count": 33,
   "id": "34be1592-be02-49b5-9417-37ad1037fe36",
   "metadata": {},
   "outputs": [],
   "source": [
    "# [TBC] complete your code here with proper comments\n",
    "# define the training function\n",
    "def train(train_dl, val_dl, model, loss_fn, optimizer, epochs, early_stopping_patience, lr_scheduler):\n",
    "    # initialization\n",
    "    min_val_loss, patience_counter = np.inf, 0\n",
    "    saved_path, start_time = '', datetime.datetime.now()\n",
    "    histories = {'train_batch': [], 'train_epoch': [], 'val_batch': [], 'val_epoch': []}\n",
    "\n",
    "    for epoch in range(epochs):\n",
    "        # train\n",
    "        model.train()\n",
    "        train_epoch_loss = 0.0\n",
    "        for X, y in tqdm(train_dl, desc = f'Training batch\\t'): # tqdm progress bar\n",
    "            X, y = X.to(device), y.to(device)\n",
    "            optimizer.zero_grad()\n",
    "            train_batch_loss = loss_fn(model(X), y)\n",
    "            train_batch_loss.backward()\n",
    "            optimizer.step()\n",
    "            train_epoch_loss += train_batch_loss.item()\n",
    "            histories['train_batch'].append(train_batch_loss.item())\n",
    "        train_epoch_loss /= len(train_dl)\n",
    "        histories['train_epoch'].append(train_epoch_loss)\n",
    "\n",
    "        # validation\n",
    "        model.eval()\n",
    "        val_epoch_loss = 0.0\n",
    "        with torch.no_grad():\n",
    "            for X, y in tqdm(val_dl, desc = f'Validation batch'): # tqdm progress bar\n",
    "                X, y = X.to(device), y.to(device)\n",
    "                val_batch_loss = loss_fn(model(X), y)\n",
    "                val_epoch_loss += val_batch_loss.item()\n",
    "                histories['val_batch'].append(val_batch_loss.item())\n",
    "            val_epoch_loss /= len(val_dl)\n",
    "            histories['val_epoch'].append(val_epoch_loss)\n",
    "\n",
    "        # print log\n",
    "        end_time = datetime.datetime.now()\n",
    "        time_consumed = str(end_time - start_time).split('.')[0]\n",
    "        print(f\"Epoch {epoch + 1}: train loss = {train_epoch_loss:>5f}, val loss = {val_epoch_loss:>5f}, time consumed = {time_consumed}\")\n",
    "\n",
    "        # learning rate decay\n",
    "        current_lr = optimizer.param_groups[0]['lr']\n",
    "        lr_scheduler.step(val_epoch_loss)\n",
    "        if current_lr != optimizer.param_groups[0]['lr']:\n",
    "            print(f'Learning rate reduced after epoch {epoch+1}')\n",
    "\n",
    "        # early stopping\n",
    "        if val_epoch_loss < min_val_loss:\n",
    "            min_val_loss, patience_counter = val_epoch_loss, 0\n",
    "            if os.path.exists(saved_path):\n",
    "                os.remove(saved_path)\n",
    "            time_str = end_time.strftime(\"%Y-%m-%d_%H-%M-%S\")\n",
    "            saved_path = f'epoch_{epoch+1}_val_loss_{val_epoch_loss:>4f}_{time_str}.pth'\n",
    "            torch.save(model.state_dict(), saved_path)\n",
    "            print(f'Model saved after epoch {epoch+1}')\n",
    "        else:\n",
    "            patience_counter += 1\n",
    "            if patience_counter >= early_stopping_patience:\n",
    "                print('Early stopping!')\n",
    "                break\n",
    "                \n",
    "    return histories, saved_path"
   ]
  },
  {
   "cell_type": "code",
   "execution_count": 36,
   "id": "309f61f7-d173-45cf-b465-b7638a12030b",
   "metadata": {},
   "outputs": [],
   "source": [
    "# define the training hyper-parameters\n",
    "loss_fn = nn.CrossEntropyLoss()\n",
    "learning_rate = 1e-1\n",
    "weight_decay = 1e-5\n",
    "optimizer = torch.optim.SGD(\n",
    "    model.parameters(),\n",
    "    lr = learning_rate,\n",
    "    weight_decay = weight_decay\n",
    ")\n",
    "epochs = 50\n",
    "early_stopping_patience = 10\n",
    "lr_scheduler = torch.optim.lr_scheduler.ReduceLROnPlateau(\n",
    "    optimizer,\n",
    "    mode = 'min',\n",
    "    factor = 0.1,\n",
    "    patience = 5\n",
    ")"
   ]
  },
  {
   "cell_type": "code",
   "execution_count": 37,
   "id": "ab683c01-8267-4468-a15a-8a1343fe3ac4",
   "metadata": {},
   "outputs": [
    {
     "name": "stderr",
     "output_type": "stream",
     "text": [
      "Training batch\t: 100%|██████████| 79/79 [00:08<00:00,  9.17it/s]\n",
      "Validation batch: 100%|██████████| 20/20 [00:00<00:00, 43.34it/s]\n"
     ]
    },
    {
     "name": "stdout",
     "output_type": "stream",
     "text": [
      "Epoch 1: train loss = 1.294063, val loss = 1.281961, time consumed = 0:00:09\n",
      "Model saved after epoch 1\n"
     ]
    },
    {
     "name": "stderr",
     "output_type": "stream",
     "text": [
      "Training batch\t: 100%|██████████| 79/79 [00:08<00:00,  9.43it/s]\n",
      "Validation batch: 100%|██████████| 20/20 [00:00<00:00, 43.34it/s]\n"
     ]
    },
    {
     "name": "stdout",
     "output_type": "stream",
     "text": [
      "Epoch 2: train loss = 1.284409, val loss = 1.272395, time consumed = 0:00:18\n",
      "Model saved after epoch 2\n"
     ]
    },
    {
     "name": "stderr",
     "output_type": "stream",
     "text": [
      "Training batch\t: 100%|██████████| 79/79 [00:08<00:00,  9.21it/s]\n",
      "Validation batch: 100%|██████████| 20/20 [00:00<00:00, 41.87it/s]\n"
     ]
    },
    {
     "name": "stdout",
     "output_type": "stream",
     "text": [
      "Epoch 3: train loss = 1.274426, val loss = 1.261612, time consumed = 0:00:27\n",
      "Model saved after epoch 3\n"
     ]
    },
    {
     "name": "stderr",
     "output_type": "stream",
     "text": [
      "Training batch\t: 100%|██████████| 79/79 [00:09<00:00,  8.72it/s]\n",
      "Validation batch: 100%|██████████| 20/20 [00:00<00:00, 34.22it/s]\n"
     ]
    },
    {
     "name": "stdout",
     "output_type": "stream",
     "text": [
      "Epoch 4: train loss = 1.262205, val loss = 1.250067, time consumed = 0:00:36\n",
      "Model saved after epoch 4\n"
     ]
    },
    {
     "name": "stderr",
     "output_type": "stream",
     "text": [
      "Training batch\t: 100%|██████████| 79/79 [00:09<00:00,  8.62it/s]\n",
      "Validation batch: 100%|██████████| 20/20 [00:00<00:00, 48.05it/s]\n"
     ]
    },
    {
     "name": "stdout",
     "output_type": "stream",
     "text": [
      "Epoch 5: train loss = 1.247522, val loss = 1.243367, time consumed = 0:00:46\n",
      "Model saved after epoch 5\n"
     ]
    },
    {
     "name": "stderr",
     "output_type": "stream",
     "text": [
      "Training batch\t: 100%|██████████| 79/79 [00:08<00:00,  9.06it/s]\n",
      "Validation batch: 100%|██████████| 20/20 [00:00<00:00, 44.92it/s]\n"
     ]
    },
    {
     "name": "stdout",
     "output_type": "stream",
     "text": [
      "Epoch 6: train loss = 1.229237, val loss = 1.208298, time consumed = 0:00:55\n",
      "Model saved after epoch 6\n"
     ]
    },
    {
     "name": "stderr",
     "output_type": "stream",
     "text": [
      "Training batch\t: 100%|██████████| 79/79 [00:08<00:00,  9.16it/s]\n",
      "Validation batch: 100%|██████████| 20/20 [00:00<00:00, 48.64it/s]\n"
     ]
    },
    {
     "name": "stdout",
     "output_type": "stream",
     "text": [
      "Epoch 7: train loss = 1.192124, val loss = 1.152392, time consumed = 0:01:04\n",
      "Model saved after epoch 7\n"
     ]
    },
    {
     "name": "stderr",
     "output_type": "stream",
     "text": [
      "Training batch\t: 100%|██████████| 79/79 [00:08<00:00,  8.99it/s]\n",
      "Validation batch: 100%|██████████| 20/20 [00:00<00:00, 45.02it/s]\n"
     ]
    },
    {
     "name": "stdout",
     "output_type": "stream",
     "text": [
      "Epoch 8: train loss = 1.085107, val loss = 1.030728, time consumed = 0:01:14\n",
      "Model saved after epoch 8\n"
     ]
    },
    {
     "name": "stderr",
     "output_type": "stream",
     "text": [
      "Training batch\t: 100%|██████████| 79/79 [00:09<00:00,  8.70it/s]\n",
      "Validation batch: 100%|██████████| 20/20 [00:00<00:00, 40.43it/s]\n"
     ]
    },
    {
     "name": "stdout",
     "output_type": "stream",
     "text": [
      "Epoch 9: train loss = 0.994847, val loss = 0.985986, time consumed = 0:01:23\n",
      "Model saved after epoch 9\n"
     ]
    },
    {
     "name": "stderr",
     "output_type": "stream",
     "text": [
      "Training batch\t: 100%|██████████| 79/79 [00:08<00:00,  9.28it/s]\n",
      "Validation batch: 100%|██████████| 20/20 [00:00<00:00, 31.53it/s]\n"
     ]
    },
    {
     "name": "stdout",
     "output_type": "stream",
     "text": [
      "Epoch 10: train loss = 0.958495, val loss = 0.949012, time consumed = 0:01:33\n",
      "Model saved after epoch 10\n"
     ]
    },
    {
     "name": "stderr",
     "output_type": "stream",
     "text": [
      "Training batch\t: 100%|██████████| 79/79 [00:08<00:00,  9.45it/s]\n",
      "Validation batch: 100%|██████████| 20/20 [00:00<00:00, 41.97it/s]\n"
     ]
    },
    {
     "name": "stdout",
     "output_type": "stream",
     "text": [
      "Epoch 11: train loss = 0.922260, val loss = 0.949238, time consumed = 0:01:41\n"
     ]
    },
    {
     "name": "stderr",
     "output_type": "stream",
     "text": [
      "Training batch\t: 100%|██████████| 79/79 [00:08<00:00,  9.82it/s]\n",
      "Validation batch: 100%|██████████| 20/20 [00:00<00:00, 43.42it/s]\n"
     ]
    },
    {
     "name": "stdout",
     "output_type": "stream",
     "text": [
      "Epoch 12: train loss = 0.880796, val loss = 0.866213, time consumed = 0:01:50\n",
      "Model saved after epoch 12\n"
     ]
    },
    {
     "name": "stderr",
     "output_type": "stream",
     "text": [
      "Training batch\t: 100%|██████████| 79/79 [00:08<00:00,  9.66it/s]\n",
      "Validation batch: 100%|██████████| 20/20 [00:00<00:00, 39.31it/s]\n"
     ]
    },
    {
     "name": "stdout",
     "output_type": "stream",
     "text": [
      "Epoch 13: train loss = 0.809300, val loss = 0.816887, time consumed = 0:01:59\n",
      "Model saved after epoch 13\n"
     ]
    },
    {
     "name": "stderr",
     "output_type": "stream",
     "text": [
      "Training batch\t: 100%|██████████| 79/79 [00:08<00:00,  9.27it/s]\n",
      "Validation batch: 100%|██████████| 20/20 [00:00<00:00, 47.92it/s]\n"
     ]
    },
    {
     "name": "stdout",
     "output_type": "stream",
     "text": [
      "Epoch 14: train loss = 0.740258, val loss = 0.708802, time consumed = 0:02:08\n",
      "Model saved after epoch 14\n"
     ]
    },
    {
     "name": "stderr",
     "output_type": "stream",
     "text": [
      "Training batch\t: 100%|██████████| 79/79 [00:08<00:00,  9.12it/s]\n",
      "Validation batch: 100%|██████████| 20/20 [00:00<00:00, 42.01it/s]\n"
     ]
    },
    {
     "name": "stdout",
     "output_type": "stream",
     "text": [
      "Epoch 15: train loss = 0.663546, val loss = 0.657404, time consumed = 0:02:17\n",
      "Model saved after epoch 15\n"
     ]
    },
    {
     "name": "stderr",
     "output_type": "stream",
     "text": [
      "Training batch\t: 100%|██████████| 79/79 [00:08<00:00,  8.89it/s]\n",
      "Validation batch: 100%|██████████| 20/20 [00:00<00:00, 39.58it/s]\n"
     ]
    },
    {
     "name": "stdout",
     "output_type": "stream",
     "text": [
      "Epoch 16: train loss = 0.609950, val loss = 0.608773, time consumed = 0:02:26\n",
      "Model saved after epoch 16\n"
     ]
    },
    {
     "name": "stderr",
     "output_type": "stream",
     "text": [
      "Training batch\t: 100%|██████████| 79/79 [00:08<00:00,  9.37it/s]\n",
      "Validation batch: 100%|██████████| 20/20 [00:00<00:00, 40.39it/s]\n"
     ]
    },
    {
     "name": "stdout",
     "output_type": "stream",
     "text": [
      "Epoch 17: train loss = 0.564365, val loss = 0.582890, time consumed = 0:02:35\n",
      "Model saved after epoch 17\n"
     ]
    },
    {
     "name": "stderr",
     "output_type": "stream",
     "text": [
      "Training batch\t: 100%|██████████| 79/79 [00:08<00:00,  8.96it/s]\n",
      "Validation batch: 100%|██████████| 20/20 [00:00<00:00, 46.19it/s]\n"
     ]
    },
    {
     "name": "stdout",
     "output_type": "stream",
     "text": [
      "Epoch 18: train loss = 0.520771, val loss = 0.505929, time consumed = 0:02:45\n",
      "Model saved after epoch 18\n"
     ]
    },
    {
     "name": "stderr",
     "output_type": "stream",
     "text": [
      "Training batch\t: 100%|██████████| 79/79 [00:08<00:00,  9.14it/s]\n",
      "Validation batch: 100%|██████████| 20/20 [00:00<00:00, 38.80it/s]\n"
     ]
    },
    {
     "name": "stdout",
     "output_type": "stream",
     "text": [
      "Epoch 19: train loss = 0.468134, val loss = 0.459582, time consumed = 0:02:54\n",
      "Model saved after epoch 19\n"
     ]
    },
    {
     "name": "stderr",
     "output_type": "stream",
     "text": [
      "Training batch\t: 100%|██████████| 79/79 [00:08<00:00,  9.27it/s]\n",
      "Validation batch: 100%|██████████| 20/20 [00:00<00:00, 45.93it/s]\n"
     ]
    },
    {
     "name": "stdout",
     "output_type": "stream",
     "text": [
      "Epoch 20: train loss = 0.425911, val loss = 0.448430, time consumed = 0:03:03\n",
      "Model saved after epoch 20\n"
     ]
    },
    {
     "name": "stderr",
     "output_type": "stream",
     "text": [
      "Training batch\t: 100%|██████████| 79/79 [00:08<00:00,  9.22it/s]\n",
      "Validation batch: 100%|██████████| 20/20 [00:00<00:00, 44.92it/s]\n"
     ]
    },
    {
     "name": "stdout",
     "output_type": "stream",
     "text": [
      "Epoch 21: train loss = 0.403456, val loss = 0.432963, time consumed = 0:03:12\n",
      "Model saved after epoch 21\n"
     ]
    },
    {
     "name": "stderr",
     "output_type": "stream",
     "text": [
      "Training batch\t: 100%|██████████| 79/79 [00:09<00:00,  8.67it/s]\n",
      "Validation batch: 100%|██████████| 20/20 [00:00<00:00, 40.63it/s]\n"
     ]
    },
    {
     "name": "stdout",
     "output_type": "stream",
     "text": [
      "Epoch 22: train loss = 0.365207, val loss = 0.401611, time consumed = 0:03:22\n",
      "Model saved after epoch 22\n"
     ]
    },
    {
     "name": "stderr",
     "output_type": "stream",
     "text": [
      "Training batch\t: 100%|██████████| 79/79 [00:08<00:00,  9.20it/s]\n",
      "Validation batch: 100%|██████████| 20/20 [00:00<00:00, 40.70it/s]\n"
     ]
    },
    {
     "name": "stdout",
     "output_type": "stream",
     "text": [
      "Epoch 23: train loss = 0.353049, val loss = 0.411533, time consumed = 0:03:31\n"
     ]
    },
    {
     "name": "stderr",
     "output_type": "stream",
     "text": [
      "Training batch\t: 100%|██████████| 79/79 [00:11<00:00,  6.80it/s]\n",
      "Validation batch: 100%|██████████| 20/20 [00:00<00:00, 39.44it/s]\n"
     ]
    },
    {
     "name": "stdout",
     "output_type": "stream",
     "text": [
      "Epoch 24: train loss = 0.326008, val loss = 0.375191, time consumed = 0:03:43\n",
      "Model saved after epoch 24\n"
     ]
    },
    {
     "name": "stderr",
     "output_type": "stream",
     "text": [
      "Training batch\t: 100%|██████████| 79/79 [00:09<00:00,  8.77it/s]\n",
      "Validation batch: 100%|██████████| 20/20 [00:00<00:00, 47.08it/s]\n"
     ]
    },
    {
     "name": "stdout",
     "output_type": "stream",
     "text": [
      "Epoch 25: train loss = 0.310641, val loss = 0.361623, time consumed = 0:03:52\n",
      "Model saved after epoch 25\n"
     ]
    },
    {
     "name": "stderr",
     "output_type": "stream",
     "text": [
      "Training batch\t: 100%|██████████| 79/79 [00:08<00:00,  9.74it/s]\n",
      "Validation batch: 100%|██████████| 20/20 [00:00<00:00, 42.02it/s]\n"
     ]
    },
    {
     "name": "stdout",
     "output_type": "stream",
     "text": [
      "Epoch 26: train loss = 0.299164, val loss = 0.334447, time consumed = 0:04:01\n",
      "Model saved after epoch 26\n"
     ]
    },
    {
     "name": "stderr",
     "output_type": "stream",
     "text": [
      "Training batch\t: 100%|██████████| 79/79 [00:08<00:00,  9.23it/s]\n",
      "Validation batch: 100%|██████████| 20/20 [00:00<00:00, 42.81it/s]\n"
     ]
    },
    {
     "name": "stdout",
     "output_type": "stream",
     "text": [
      "Epoch 27: train loss = 0.281420, val loss = 0.330572, time consumed = 0:04:10\n",
      "Model saved after epoch 27\n"
     ]
    },
    {
     "name": "stderr",
     "output_type": "stream",
     "text": [
      "Training batch\t: 100%|██████████| 79/79 [00:08<00:00,  9.68it/s]\n",
      "Validation batch: 100%|██████████| 20/20 [00:00<00:00, 38.79it/s]\n"
     ]
    },
    {
     "name": "stdout",
     "output_type": "stream",
     "text": [
      "Epoch 28: train loss = 0.274444, val loss = 0.316198, time consumed = 0:04:19\n",
      "Model saved after epoch 28\n"
     ]
    },
    {
     "name": "stderr",
     "output_type": "stream",
     "text": [
      "Training batch\t: 100%|██████████| 79/79 [00:08<00:00,  9.23it/s]\n",
      "Validation batch: 100%|██████████| 20/20 [00:00<00:00, 39.11it/s]\n"
     ]
    },
    {
     "name": "stdout",
     "output_type": "stream",
     "text": [
      "Epoch 29: train loss = 0.256785, val loss = 0.324417, time consumed = 0:04:28\n"
     ]
    },
    {
     "name": "stderr",
     "output_type": "stream",
     "text": [
      "Training batch\t: 100%|██████████| 79/79 [00:08<00:00,  8.95it/s]\n",
      "Validation batch: 100%|██████████| 20/20 [00:00<00:00, 48.56it/s]\n"
     ]
    },
    {
     "name": "stdout",
     "output_type": "stream",
     "text": [
      "Epoch 30: train loss = 0.260850, val loss = 0.307023, time consumed = 0:04:37\n",
      "Model saved after epoch 30\n"
     ]
    },
    {
     "name": "stderr",
     "output_type": "stream",
     "text": [
      "Training batch\t: 100%|██████████| 79/79 [00:08<00:00,  8.94it/s]\n",
      "Validation batch: 100%|██████████| 20/20 [00:00<00:00, 47.42it/s]\n"
     ]
    },
    {
     "name": "stdout",
     "output_type": "stream",
     "text": [
      "Epoch 31: train loss = 0.238274, val loss = 0.307900, time consumed = 0:04:47\n"
     ]
    },
    {
     "name": "stderr",
     "output_type": "stream",
     "text": [
      "Training batch\t: 100%|██████████| 79/79 [00:08<00:00,  8.89it/s]\n",
      "Validation batch: 100%|██████████| 20/20 [00:00<00:00, 32.78it/s]\n"
     ]
    },
    {
     "name": "stdout",
     "output_type": "stream",
     "text": [
      "Epoch 32: train loss = 0.230352, val loss = 0.296307, time consumed = 0:04:56\n",
      "Model saved after epoch 32\n"
     ]
    },
    {
     "name": "stderr",
     "output_type": "stream",
     "text": [
      "Training batch\t: 100%|██████████| 79/79 [00:08<00:00,  9.37it/s]\n",
      "Validation batch: 100%|██████████| 20/20 [00:00<00:00, 47.49it/s]\n"
     ]
    },
    {
     "name": "stdout",
     "output_type": "stream",
     "text": [
      "Epoch 33: train loss = 0.228560, val loss = 0.311239, time consumed = 0:05:05\n"
     ]
    },
    {
     "name": "stderr",
     "output_type": "stream",
     "text": [
      "Training batch\t: 100%|██████████| 79/79 [00:08<00:00,  9.41it/s]\n",
      "Validation batch: 100%|██████████| 20/20 [00:00<00:00, 37.72it/s]\n"
     ]
    },
    {
     "name": "stdout",
     "output_type": "stream",
     "text": [
      "Epoch 34: train loss = 0.213590, val loss = 0.285105, time consumed = 0:05:14\n",
      "Model saved after epoch 34\n"
     ]
    },
    {
     "name": "stderr",
     "output_type": "stream",
     "text": [
      "Training batch\t: 100%|██████████| 79/79 [00:08<00:00,  9.00it/s]\n",
      "Validation batch: 100%|██████████| 20/20 [00:00<00:00, 45.51it/s]\n"
     ]
    },
    {
     "name": "stdout",
     "output_type": "stream",
     "text": [
      "Epoch 35: train loss = 0.209356, val loss = 0.306642, time consumed = 0:05:23\n"
     ]
    },
    {
     "name": "stderr",
     "output_type": "stream",
     "text": [
      "Training batch\t: 100%|██████████| 79/79 [00:10<00:00,  7.70it/s]\n",
      "Validation batch: 100%|██████████| 20/20 [00:00<00:00, 36.45it/s]\n"
     ]
    },
    {
     "name": "stdout",
     "output_type": "stream",
     "text": [
      "Epoch 36: train loss = 0.197669, val loss = 0.278138, time consumed = 0:05:34\n",
      "Model saved after epoch 36\n"
     ]
    },
    {
     "name": "stderr",
     "output_type": "stream",
     "text": [
      "Training batch\t: 100%|██████████| 79/79 [00:08<00:00,  9.27it/s]\n",
      "Validation batch: 100%|██████████| 20/20 [00:00<00:00, 49.08it/s]\n"
     ]
    },
    {
     "name": "stdout",
     "output_type": "stream",
     "text": [
      "Epoch 37: train loss = 0.198340, val loss = 0.277699, time consumed = 0:05:43\n",
      "Model saved after epoch 37\n"
     ]
    },
    {
     "name": "stderr",
     "output_type": "stream",
     "text": [
      "Training batch\t: 100%|██████████| 79/79 [00:08<00:00,  9.31it/s]\n",
      "Validation batch: 100%|██████████| 20/20 [00:00<00:00, 42.86it/s]\n"
     ]
    },
    {
     "name": "stdout",
     "output_type": "stream",
     "text": [
      "Epoch 38: train loss = 0.191863, val loss = 0.277793, time consumed = 0:05:52\n"
     ]
    },
    {
     "name": "stderr",
     "output_type": "stream",
     "text": [
      "Training batch\t: 100%|██████████| 79/79 [00:08<00:00,  9.37it/s]\n",
      "Validation batch: 100%|██████████| 20/20 [00:00<00:00, 47.63it/s]\n"
     ]
    },
    {
     "name": "stdout",
     "output_type": "stream",
     "text": [
      "Epoch 39: train loss = 0.189151, val loss = 0.275963, time consumed = 0:06:01\n",
      "Model saved after epoch 39\n"
     ]
    },
    {
     "name": "stderr",
     "output_type": "stream",
     "text": [
      "Training batch\t: 100%|██████████| 79/79 [00:11<00:00,  6.89it/s]\n",
      "Validation batch: 100%|██████████| 20/20 [00:00<00:00, 44.86it/s]\n"
     ]
    },
    {
     "name": "stdout",
     "output_type": "stream",
     "text": [
      "Epoch 40: train loss = 0.179664, val loss = 0.282374, time consumed = 0:06:13\n"
     ]
    },
    {
     "name": "stderr",
     "output_type": "stream",
     "text": [
      "Training batch\t: 100%|██████████| 79/79 [00:08<00:00,  9.09it/s]\n",
      "Validation batch: 100%|██████████| 20/20 [00:00<00:00, 43.12it/s]\n"
     ]
    },
    {
     "name": "stdout",
     "output_type": "stream",
     "text": [
      "Epoch 41: train loss = 0.174905, val loss = 0.267356, time consumed = 0:06:22\n",
      "Model saved after epoch 41\n"
     ]
    },
    {
     "name": "stderr",
     "output_type": "stream",
     "text": [
      "Training batch\t: 100%|██████████| 79/79 [00:09<00:00,  8.21it/s]\n",
      "Validation batch: 100%|██████████| 20/20 [00:00<00:00, 35.15it/s]\n"
     ]
    },
    {
     "name": "stdout",
     "output_type": "stream",
     "text": [
      "Epoch 42: train loss = 0.172408, val loss = 0.295009, time consumed = 0:06:33\n"
     ]
    },
    {
     "name": "stderr",
     "output_type": "stream",
     "text": [
      "Training batch\t: 100%|██████████| 79/79 [00:09<00:00,  8.03it/s]\n",
      "Validation batch: 100%|██████████| 20/20 [00:00<00:00, 43.42it/s]\n"
     ]
    },
    {
     "name": "stdout",
     "output_type": "stream",
     "text": [
      "Epoch 43: train loss = 0.184942, val loss = 0.265353, time consumed = 0:06:43\n",
      "Model saved after epoch 43\n"
     ]
    },
    {
     "name": "stderr",
     "output_type": "stream",
     "text": [
      "Training batch\t: 100%|██████████| 79/79 [00:10<00:00,  7.28it/s]\n",
      "Validation batch: 100%|██████████| 20/20 [00:00<00:00, 37.75it/s]\n"
     ]
    },
    {
     "name": "stdout",
     "output_type": "stream",
     "text": [
      "Epoch 44: train loss = 0.163975, val loss = 0.252509, time consumed = 0:06:54\n",
      "Model saved after epoch 44\n"
     ]
    },
    {
     "name": "stderr",
     "output_type": "stream",
     "text": [
      "Training batch\t: 100%|██████████| 79/79 [00:08<00:00,  9.40it/s]\n",
      "Validation batch: 100%|██████████| 20/20 [00:00<00:00, 43.35it/s]\n"
     ]
    },
    {
     "name": "stdout",
     "output_type": "stream",
     "text": [
      "Epoch 45: train loss = 0.157040, val loss = 0.253982, time consumed = 0:07:03\n"
     ]
    },
    {
     "name": "stderr",
     "output_type": "stream",
     "text": [
      "Training batch\t: 100%|██████████| 79/79 [00:07<00:00,  9.96it/s]\n",
      "Validation batch: 100%|██████████| 20/20 [00:00<00:00, 43.43it/s]\n"
     ]
    },
    {
     "name": "stdout",
     "output_type": "stream",
     "text": [
      "Epoch 46: train loss = 0.158661, val loss = 0.249081, time consumed = 0:07:12\n",
      "Model saved after epoch 46\n"
     ]
    },
    {
     "name": "stderr",
     "output_type": "stream",
     "text": [
      "Training batch\t: 100%|██████████| 79/79 [00:08<00:00,  9.31it/s]\n",
      "Validation batch: 100%|██████████| 20/20 [00:00<00:00, 39.94it/s]\n"
     ]
    },
    {
     "name": "stdout",
     "output_type": "stream",
     "text": [
      "Epoch 47: train loss = 0.149445, val loss = 0.254926, time consumed = 0:07:21\n"
     ]
    },
    {
     "name": "stderr",
     "output_type": "stream",
     "text": [
      "Training batch\t: 100%|██████████| 79/79 [00:08<00:00,  9.54it/s]\n",
      "Validation batch: 100%|██████████| 20/20 [00:00<00:00, 43.50it/s]\n"
     ]
    },
    {
     "name": "stdout",
     "output_type": "stream",
     "text": [
      "Epoch 48: train loss = 0.144826, val loss = 0.259017, time consumed = 0:07:29\n"
     ]
    },
    {
     "name": "stderr",
     "output_type": "stream",
     "text": [
      "Training batch\t: 100%|██████████| 79/79 [00:08<00:00,  9.17it/s]\n",
      "Validation batch: 100%|██████████| 20/20 [00:00<00:00, 37.67it/s]\n"
     ]
    },
    {
     "name": "stdout",
     "output_type": "stream",
     "text": [
      "Epoch 49: train loss = 0.151560, val loss = 0.252640, time consumed = 0:07:39\n"
     ]
    },
    {
     "name": "stderr",
     "output_type": "stream",
     "text": [
      "Training batch\t: 100%|██████████| 79/79 [00:08<00:00,  9.75it/s]\n",
      "Validation batch: 100%|██████████| 20/20 [00:00<00:00, 42.26it/s]\n"
     ]
    },
    {
     "name": "stdout",
     "output_type": "stream",
     "text": [
      "Epoch 50: train loss = 0.137729, val loss = 0.245318, time consumed = 0:07:47\n",
      "Model saved after epoch 50\n"
     ]
    },
    {
     "data": {
      "text/plain": [
       "<All keys matched successfully>"
      ]
     },
     "execution_count": 37,
     "metadata": {},
     "output_type": "execute_result"
    }
   ],
   "source": [
    "# train the neural network\n",
    "histories, saved_path = train(\n",
    "    train_dl,\n",
    "    val_dl,\n",
    "    model,\n",
    "    loss_fn,\n",
    "    optimizer,\n",
    "    epochs,\n",
    "    early_stopping_patience,\n",
    "    lr_scheduler\n",
    ")\n",
    "# reload the best model\n",
    "model.load_state_dict(torch.load(saved_path))"
   ]
  },
  {
   "cell_type": "code",
   "execution_count": 38,
   "id": "9da8e6a7-d4ad-42dc-baef-3060bed57462",
   "metadata": {},
   "outputs": [
    {
     "data": {
      "image/png": "[encoded data removed]",
      "text/plain": [
       "<Figure size 640x480 with 1 Axes>"
      ]
     },
     "metadata": {},
     "output_type": "display_data"
    }
   ],
   "source": [
    "# plot the train vs. val loss history\n",
    "plt.figure()\n",
    "plt.plot(np.arange(len(histories['train_epoch'])), histories['train_epoch'], '-', label = 'train loss')\n",
    "plt.plot(np.arange(len(histories['val_epoch'])), histories['val_epoch'], '-', label = 'val loss')\n",
    "plt.title('train vs. validation loss history')\n",
    "plt.xlabel('epoch')\n",
    "plt.ylabel('loss')\n",
    "plt.legend()\n",
    "plt.show()"
   ]
  },
  {
   "cell_type": "markdown",
   "id": "4d6cba60-fdb2-4439-bcda-cb4d4fd76c39",
   "metadata": {},
   "source": [
    "## Task 4. Test and evaluation\n",
    "\n",
    "<span style=\"color:red\">**[TBC]**</span> You need to:\n",
    "- Define the `test()` function\n",
    "    - Output logits, probabilities and predictions\n",
    "    - Output the loss value on the test set\n",
    "- Make predictions on the test dataset\n",
    "- Evaluate the performance\n",
    "    - Use `sklearn.metrics.classification_report()`"
   ]
  },
  {
   "cell_type": "code",
   "execution_count": 39,
   "id": "50b7366a-1fa4-4367-ac20-7cc8844e33f9",
   "metadata": {},
   "outputs": [],
   "source": [
    "# [TBC] complete your code here with proper comments\n",
    "# define a function to make predictions on test dataset and evaluate the performance\n",
    "def test(dataloader, model, loss_fn):\n",
    "    logits, probs, preds = [], [], []\n",
    "    with torch.no_grad():\n",
    "        loss = 0.0\n",
    "        for (X, y) in dataloader:\n",
    "            X, y = X.to(device), y.to(device) # move data to GPU\n",
    "            batch_logits = model(X)\n",
    "            batch_loss = loss_fn(batch_logits, y)\n",
    "            loss += batch_loss.item()\n",
    "\n",
    "            batch_probs = torch.softmax(batch_logits, dim = -1)\n",
    "            _, batch_preds = torch.max(batch_logits, 1)\n",
    "\n",
    "            logits.append(batch_logits.cpu().numpy())\n",
    "            probs.append(batch_probs.cpu().numpy())\n",
    "            preds.append(batch_preds.cpu().numpy())\n",
    "        loss /= len(dataloader)\n",
    "        print(f\"test loss = {loss}\")\n",
    "    return np.concatenate(logits), np.concatenate(probs), np.concatenate(preds), loss"
   ]
  },
  {
   "cell_type": "code",
   "execution_count": 40,
   "id": "747051b8-802b-4fee-9d49-59680093a2dd",
   "metadata": {},
   "outputs": [
    {
     "name": "stdout",
     "output_type": "stream",
     "text": [
      "test loss = 0.15370837822556496\n",
      "                        precision    recall  f1-score   support\n",
      "\n",
      "                 Books       0.97      0.95      0.96      3594\n",
      "Clothing & Accessories       0.98      0.97      0.97      2625\n",
      "           Electronics       0.95      0.95      0.95      3079\n",
      "             Household       0.96      0.97      0.96      5829\n",
      "\n",
      "              accuracy                           0.96     15127\n",
      "             macro avg       0.96      0.96      0.96     15127\n",
      "          weighted avg       0.96      0.96      0.96     15127\n",
      "\n"
     ]
    }
   ],
   "source": [
    "# make prediction on test set and evaluate the performance\n",
    "test_logits, test_prob, test_pred, test_loss = test(test_dl, model, loss_fn)\n",
    "\n",
    "# obtain test labels\n",
    "test_label = []\n",
    "for (_, y) in test_dl:\n",
    "    test_label.extend(y.cpu().numpy())\n",
    "    \n",
    "print(classification_report(test_label, test_pred, target_names = classes))"
   ]
  },
  {
   "cell_type": "markdown",
   "id": "6055ec40-ed58-4f63-85b5-e2e86592fdc3",
   "metadata": {},
   "source": [
    "## Task 5. Make predictions on unseen text\n",
    "\n",
    "<span style=\"color:red\">**[TBC]**</span> You need to:\n",
    "- Specify an unseen product page by yourself\n",
    "    - Use a real product page on the ecommerce platform as Amazon\n",
    "    - Or make up a fake one yourself\n",
    "- Define a `predict()` function for making predictions\n",
    "- Use the `predict()` function to classify the product page into one of the pre-defined classes"
   ]
  },
  {
   "cell_type": "code",
   "execution_count": 44,
   "id": "58103abc-e49e-4721-9118-940fbfe37155",
   "metadata": {},
   "outputs": [
    {
     "name": "stdout",
     "output_type": "stream",
     "text": [
      "Xiaomi Redmi Note 13 5G offers Performance, Power up your daily essentials, Ultra-clear 200MP camera with OIS and ultimate hardware for flawless imaging, Immersive andsmooth display for gaming, 67W Turbo Charge with 5100mAh battery, Cutting-edge immersive visuals\n"
     ]
    }
   ],
   "source": [
    "# [TBC] complete your code here with proper comments\n",
    "# specify an unseen news article\n",
    "unseen_product = 'Xiaomi Redmi Note 13 5G offers Performance, Power up your daily essentials, Ultra-clear 200MP camera with OIS and ultimate hardware for flawless imaging, Immersive andsmooth display for gaming, 67W Turbo Charge with 5100mAh battery, Cutting-edge immersive visuals'\n",
    "print(unseen_product)"
   ]
  },
  {
   "cell_type": "code",
   "execution_count": 45,
   "id": "1ef1e897-14ce-4e94-a416-a6748039b45c",
   "metadata": {},
   "outputs": [],
   "source": [
    "# define a predict function to make prediction on unseen text\n",
    "def predict(model, text):\n",
    "    X = vocab(tokenizer(text))\n",
    "    if len(X) < seq_length:\n",
    "        X = X + [0] * (seq_length - len(X))\n",
    "    else:\n",
    "        X = X[:seq_length]\n",
    "    X = np.array(X).reshape(1, -1) # add the batch dimension, batch_size = 1\n",
    "    X = torch.tensor(X, dtype = torch.int64)\n",
    "    logit = model(X.to(device))\n",
    "    _, pred = torch.max(logit, 1)\n",
    "    return pred.item()"
   ]
  },
  {
   "cell_type": "code",
   "execution_count": 46,
   "id": "6c338b3c-5198-47bf-ad59-64fdb1299e66",
   "metadata": {},
   "outputs": [
    {
     "name": "stdout",
     "output_type": "stream",
     "text": [
      "The predicted calss is: Electronics\n"
     ]
    }
   ],
   "source": [
    "print('The predicted class is:', classes[predict(model, unseen_news)])"
   ]
  }
 ],
 "metadata": {
  "kernelspec": {
   "display_name": "Python 3 (ipykernel)",
   "language": "python",
   "name": "python3"
  },
  "language_info": {
   "codemirror_mode": {
    "name": "ipython",
    "version": 3
   },
   "file_extension": ".py",
   "mimetype": "text/x-python",
   "name": "python",
   "nbconvert_exporter": "python",
   "pygments_lexer": "ipython3",
   "version": "3.11.7"
  }
 },
 "nbformat": 4,
 "nbformat_minor": 5
}
