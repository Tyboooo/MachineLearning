{
 "cells": [
  {
   "cell_type": "markdown",
   "id": "9351c1e3-5a64-4cd5-b74a-ef0f1a4d38a5",
   "metadata": {},
   "source": [
    "# Exercise 01.1 Intro to ML - Numpy Recap"
   ]
  },
  {
   "cell_type": "markdown",
   "id": "eb6dc342-85bf-4448-bce8-baa585633d50",
   "metadata": {
    "tags": []
   },
   "source": [
    "## Pedagogy\n",
    "\n",
    "This notebook contains both theoretical explanations and executable cells to execute your code.\n",
    "\n",
    "When you see the <span style=\"color:red\">**[TBC]**</span> (To Be Completed) sign, it means that you need to perform an action else besides executing the cells of code that already exist. These actions can be:\n",
    "- Complete the code with proper comments\n",
    "- Respond to a question\n",
    "- Write an analysis\n",
    "- etc."
   ]
  },
  {
   "cell_type": "markdown",
   "id": "508bf3a8-d15c-4656-9194-6211a69dc91a",
   "metadata": {},
   "source": [
    "## Part 1. NumPy ultra-quick tutorial\n",
    "\n",
    "[Numpy](https://numpy.org/doc/stable/index.html) is a Python library for creating and manipulating matrices, the main data structure used by ML algorithms. [Matrices](https://en.wikipedia.org/wiki/Matrix_(mathematics)) are mathematical objects used to store values in rows and columns.\n",
    "\n",
    "Python calls matrices *lists*, NumPy calls them *arrays*.\n",
    "\n",
    "This notebook is not an exhaustive tutorial on NumPy. Rather, the purpose of this notebook is to let you review the knowledge about NumPy you learned in the Python Bootcamp course, and set up python, anaconda, jupyter notebook and other tools for subsequent courses."
   ]
  },
  {
   "cell_type": "markdown",
   "id": "c43415cf-4f83-49f1-8a29-035a3a2b59d2",
   "metadata": {},
   "source": [
    "### Import NumPy library\n",
    "\n",
    "Run the following code cell to import the NumPy library."
   ]
  },
  {
   "cell_type": "code",
   "execution_count": 1,
   "id": "f2802434-5d19-4be1-9d35-9528e87e93ec",
   "metadata": {
    "tags": []
   },
   "outputs": [],
   "source": [
    "# import the NumPy library\n",
    "import numpy as np"
   ]
  },
  {
   "cell_type": "markdown",
   "id": "56744531-cf8a-44ef-a9dd-31d1aa8b5c7b",
   "metadata": {},
   "source": [
    "### Populate arrays with specific numbers\n",
    "\n",
    "Call `np.array` to create a NumPy array with you own hand-picked values. For example, the following call to `np.array` creates an 8-element array."
   ]
  },
  {
   "cell_type": "code",
   "execution_count": 2,
   "id": "e1c7b367-e9bf-4540-994d-d26e9878a749",
   "metadata": {
    "tags": []
   },
   "outputs": [
    {
     "name": "stdout",
     "output_type": "stream",
     "text": [
      "[1.2 2.4 3.5 4.7 6.1 7.2 8.3 9.5]\n"
     ]
    }
   ],
   "source": [
    "# create an 8-element array\n",
    "one_dimensional_array = np.array([1.2, 2.4, 3.5, 4.7, 6.1, 7.2, 8.3, 9.5])\n",
    "print(one_dimensional_array)"
   ]
  },
  {
   "cell_type": "markdown",
   "id": "94c6906c-d829-4f4a-8bf8-5566343172cf",
   "metadata": {},
   "source": [
    "You can also use `np.array` to create a two-dimensional array. To do that, specify an extra layer of square brackets. For example, the following call creates a 3$\\times$2 array:"
   ]
  },
  {
   "cell_type": "code",
   "execution_count": 3,
   "id": "c579cd3b-69ed-4864-bbad-6b3cb1378345",
   "metadata": {
    "tags": []
   },
   "outputs": [
    {
     "name": "stdout",
     "output_type": "stream",
     "text": [
      "[[ 6  5]\n",
      " [11  7]\n",
      " [ 4  8]]\n"
     ]
    }
   ],
   "source": [
    "# create a two-dimensional array\n",
    "two_dimensional_array = np.array([[6, 5], [11, 7], [4, 8]])\n",
    "print(two_dimensional_array)"
   ]
  },
  {
   "cell_type": "markdown",
   "id": "dc3c6a38-cd3c-4c85-be3b-8cafce89b3c1",
   "metadata": {},
   "source": [
    "To populate an array with all zeros, call `np.zeros`."
   ]
  },
  {
   "cell_type": "code",
   "execution_count": 4,
   "id": "888e117a-94c8-4d86-8950-b9b333e27a6a",
   "metadata": {
    "tags": []
   },
   "outputs": [
    {
     "name": "stdout",
     "output_type": "stream",
     "text": [
      "[0. 0. 0. 0. 0. 0. 0. 0.]\n"
     ]
    }
   ],
   "source": [
    "# create an array with all zeros\n",
    "all_zero_array = np.zeros(8)\n",
    "print(all_zero_array)"
   ]
  },
  {
   "cell_type": "markdown",
   "id": "d7ecd198-670b-44f2-8d17-edb574dd16f7",
   "metadata": {},
   "source": [
    "To populate an array with all ones, call `np.ones`."
   ]
  },
  {
   "cell_type": "code",
   "execution_count": 5,
   "id": "6b92c7d4-c952-4fd6-a9eb-c88f70f22ac6",
   "metadata": {
    "tags": []
   },
   "outputs": [
    {
     "name": "stdout",
     "output_type": "stream",
     "text": [
      "[[1. 1.]\n",
      " [1. 1.]\n",
      " [1. 1.]]\n"
     ]
    }
   ],
   "source": [
    "# create an array with all ones\n",
    "all_one_array = np.ones((3,2))\n",
    "print(all_one_array)"
   ]
  },
  {
   "cell_type": "markdown",
   "id": "0a0b8311-6de1-4241-ae2f-b537ce0f3106",
   "metadata": {},
   "source": [
    "### Populate arrays with random numbers\n",
    "\n",
    "NumPy provides various functions to populate arrays with random numbers across certain ranges. For example, `np.random.randint` generates random integers between a low and high value. The following call populates a 6-element array with random integers between 50 and 100."
   ]
  },
  {
   "cell_type": "code",
   "execution_count": 6,
   "id": "6bb1d6c4-99f2-4b92-a006-e43ab31dbc51",
   "metadata": {
    "tags": []
   },
   "outputs": [
    {
     "name": "stdout",
     "output_type": "stream",
     "text": [
      "[58 77 64 62 63 93]\n"
     ]
    }
   ],
   "source": [
    "# create a 6-element array with random integers between 50 and 100\n",
    "random_integers_between_50_and_100 = np.random.randint(low = 50, high = 101, size = (6))\n",
    "print(random_integers_between_50_and_100)"
   ]
  },
  {
   "cell_type": "markdown",
   "id": "c03aba72-b6a9-4feb-8bce-c9fabed7925d",
   "metadata": {},
   "source": [
    "Note that the highest generated integer will be less than the `high` argument. More explanations about `np.random.randint` can be found in the official documentation: https://numpy.org/doc/stable/reference/random/generated/numpy.random.randint.html#numpy.random.randint"
   ]
  },
  {
   "cell_type": "markdown",
   "id": "7815d84d-9d8d-43da-b58a-ded6b1f430c8",
   "metadata": {},
   "source": [
    "To create random floating-point values between 0.0 and 1.0, call `np.random.random`. For example:"
   ]
  },
  {
   "cell_type": "code",
   "execution_count": 7,
   "id": "9f4e23c4-caa9-4e35-a880-19bd453bdb22",
   "metadata": {
    "tags": []
   },
   "outputs": [
    {
     "name": "stdout",
     "output_type": "stream",
     "text": [
      "[0.16362705 0.44621064 0.66003978 0.19589931 0.89320691 0.03507113]\n"
     ]
    }
   ],
   "source": [
    "# create an array with random floating-point values between 0.0 and 1.0\n",
    "random_floats_between_0_and_1 = np.random.random([6])\n",
    "print(random_floats_between_0_and_1)"
   ]
  },
  {
   "cell_type": "markdown",
   "id": "453c7312-d45d-4360-9d7e-ed641c85ce6d",
   "metadata": {},
   "source": [
    "### Mathematical operations on NumPy operands\n",
    "\n",
    "If you want to add or subtract two arrays, linear algebra requires that the two operands have the same dimensions. Furthermore, if you want to multiply two arrays, linear algebra imposes strict rules on the dimensional compatibility of operands. Fortunately, NumPy uses a trick called [**broadcasting**](https://developers.google.com/machine-learning/glossary/#broadcasting) to virtually expand the smaller operand to dimensions compatible for linear algebra. For example, the following operation uses broadcasting to add 2.0 to the value of every item in the array created in the previous code cell:"
   ]
  },
  {
   "cell_type": "code",
   "execution_count": 8,
   "id": "96d6bf43-e73d-4837-a0fd-9d0e12a93375",
   "metadata": {
    "tags": []
   },
   "outputs": [
    {
     "name": "stdout",
     "output_type": "stream",
     "text": [
      "[2.16362705 2.44621064 2.66003978 2.19589931 2.89320691 2.03507113]\n"
     ]
    }
   ],
   "source": [
    "# add 2.0 to every item in the array\n",
    "random_floats_between_2_and_3 = 2.0 + random_floats_between_0_and_1\n",
    "print(random_floats_between_2_and_3)"
   ]
  },
  {
   "cell_type": "markdown",
   "id": "dc074069-7b17-49bc-8eca-4f1c4b7b9942",
   "metadata": {},
   "source": [
    "The following operation also relies on broadcasting to multiply each item in an array by 3:"
   ]
  },
  {
   "cell_type": "code",
   "execution_count": 9,
   "id": "b6b02df7-adc0-4180-abd4-e142e27d6a48",
   "metadata": {
    "tags": []
   },
   "outputs": [
    {
     "name": "stdout",
     "output_type": "stream",
     "text": [
      "[174 231 192 186 189 279]\n"
     ]
    }
   ],
   "source": [
    "# multipy each item in the array by 3\n",
    "random_integers_between_150_and_300 = 3 * random_integers_between_50_and_100\n",
    "print(random_integers_between_150_and_300)"
   ]
  },
  {
   "cell_type": "markdown",
   "id": "3b85f13c-6083-42de-9ac5-037f6c8b8ef6",
   "metadata": {},
   "source": [
    "## Part 2. Hands-on exercises\n",
    "\n",
    "Please complete the following two exercises."
   ]
  },
  {
   "cell_type": "markdown",
   "id": "8b0a93a3-c542-4b8b-8423-0771c010c208",
   "metadata": {
    "tags": []
   },
   "source": [
    "### Task 1. Create a linear dataset\n",
    "\n",
    "<span style=\"color:red\">**[TBC]**</span>: Your goal is to create a simple dataset consisting of a single feature and a label as follows:\n",
    "1. Assign a sequence of integers from 6 to 20 (inclusive) to a NumPy array named `feature`\n",
    "2. Assign 15 values to a NumPy array named `label` such that: label = 3 $\\times$ feature + 4\n",
    "3. Print the created `feature` and `label`\n",
    "\n",
    "For example, the first value for `label` should be:\n",
    "\n",
    "3 $\\times$ 6 + 4 = 22"
   ]
  },
  {
   "cell_type": "code",
   "execution_count": 12,
   "id": "871ff091-46b7-4fd5-bbf0-6f6dd9f8fff2",
   "metadata": {
    "tags": []
   },
   "outputs": [
    {
     "name": "stdout",
     "output_type": "stream",
     "text": [
      "[13 14  6 16 15 20  8 19 13  8 11 17 18 14 11]\n",
      "[43 46 22 52 49 64 28 61 43 28 37 55 58 46 37]\n"
     ]
    }
   ],
   "source": [
    "# [TBC] complete your code here with proper comments\n",
    "feature = np.random.randint(low = 6, high = 21, size = (15))\n",
    "print(feature)\n",
    "\n",
    "label = 3 * feature + 4\n",
    "print(label)\n"
   ]
  },
  {
   "cell_type": "markdown",
   "id": "b33a6022-0296-4bc5-b6bb-be51113e21b7",
   "metadata": {
    "tags": []
   },
   "source": [
    "### Task 2. Add some noise to the dataset\n",
    "\n",
    "<span style=\"color:red\">**[TBC]**</span>: To make your dataset a little more realistic, insert a little random noise into each element of the `label` array you already created. To be more precise, modify each value assigned to `label` by adding a different random floating-point value between -2 and +2."
   ]
  },
  {
   "cell_type": "code",
   "execution_count": 19,
   "id": "688c05d8-37e1-42d7-8b5b-c1777a01aa63",
   "metadata": {},
   "outputs": [
    {
     "data": {
      "text/plain": [
       "array([45.33363897, 47.11202953, 24.31468808, 53.3525569 , 51.17527368,\n",
       "       65.72613684, 29.00647157, 64.0236584 , 44.48590246, 29.4151612 ,\n",
       "       38.92561537, 56.46365422, 61.09719424, 49.39821231, 38.20483179])"
      ]
     },
     "execution_count": 19,
     "metadata": {},
     "output_type": "execute_result"
    }
   ],
   "source": [
    "# [TBC] complete your code here with proper comments\n",
    "float = np.random.random([15])\n",
    "label = label + float\n",
    "label"
   ]
  }
 ],
 "metadata": {
  "kernelspec": {
   "display_name": "Python 3 (ipykernel)",
   "language": "python",
   "name": "python3"
  },
  "language_info": {
   "codemirror_mode": {
    "name": "ipython",
    "version": 3
   },
   "file_extension": ".py",
   "mimetype": "text/x-python",
   "name": "python",
   "nbconvert_exporter": "python",
   "pygments_lexer": "ipython3",
   "version": "3.11.3"
  }
 },
 "nbformat": 4,
 "nbformat_minor": 5
}
